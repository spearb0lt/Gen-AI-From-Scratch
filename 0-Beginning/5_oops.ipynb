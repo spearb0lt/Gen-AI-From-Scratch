{
 "cells": [
  {
   "cell_type": "code",
   "execution_count": null,
   "id": "8642581e",
   "metadata": {},
   "outputs": [],
   "source": []
  },
  {
   "cell_type": "code",
   "execution_count": 1,
   "id": "d06b0626",
   "metadata": {},
   "outputs": [
    {
     "name": "stdout",
     "output_type": "stream",
     "text": [
      "<class '__main__.Car'>\n"
     ]
    }
   ],
   "source": [
    "class Car:\n",
    "    pass\n",
    "audi= Car()\n",
    "bmw = Car()\n",
    "\n",
    "print(type(audi))"
   ]
  },
  {
   "cell_type": "code",
   "execution_count": 2,
   "id": "68704547",
   "metadata": {},
   "outputs": [
    {
     "name": "stdout",
     "output_type": "stream",
     "text": [
      "<__main__.Car object at 0x000001881CBE7290>\n"
     ]
    }
   ],
   "source": [
    "print(audi)"
   ]
  },
  {
   "cell_type": "code",
   "execution_count": 3,
   "id": "7366ffcc",
   "metadata": {},
   "outputs": [
    {
     "name": "stdout",
     "output_type": "stream",
     "text": [
      "4\n"
     ]
    }
   ],
   "source": [
    "audi.windows = 4\n",
    "print(audi.windows)"
   ]
  },
  {
   "cell_type": "code",
   "execution_count": 4,
   "id": "9a053d87",
   "metadata": {},
   "outputs": [
    {
     "data": {
      "text/plain": [
       "['__class__',\n",
       " '__delattr__',\n",
       " '__dict__',\n",
       " '__dir__',\n",
       " '__doc__',\n",
       " '__eq__',\n",
       " '__format__',\n",
       " '__ge__',\n",
       " '__getattribute__',\n",
       " '__getstate__',\n",
       " '__gt__',\n",
       " '__hash__',\n",
       " '__init__',\n",
       " '__init_subclass__',\n",
       " '__le__',\n",
       " '__lt__',\n",
       " '__module__',\n",
       " '__ne__',\n",
       " '__new__',\n",
       " '__reduce__',\n",
       " '__reduce_ex__',\n",
       " '__repr__',\n",
       " '__setattr__',\n",
       " '__sizeof__',\n",
       " '__str__',\n",
       " '__subclasshook__',\n",
       " '__weakref__',\n",
       " 'windows']"
      ]
     },
     "execution_count": 4,
     "metadata": {},
     "output_type": "execute_result"
    }
   ],
   "source": [
    "dir(audi)"
   ]
  },
  {
   "cell_type": "code",
   "execution_count": null,
   "id": "7c2ffe92",
   "metadata": {},
   "outputs": [],
   "source": [
    "class Dog:\n",
    "    # constructor\n",
    "    def __init__(name, age):\n",
    "        name= name\n",
    "\n"
   ]
  },
  {
   "cell_type": "code",
   "execution_count": 5,
   "id": "ef82f854",
   "metadata": {},
   "outputs": [
    {
     "name": "stdout",
     "output_type": "stream",
     "text": [
      "Tommy 5\n",
      "Rocky 3\n"
     ]
    }
   ],
   "source": [
    "# self.name is my instance variable inside classname is para i am calling to pass name\n",
    "\n",
    "class Dog:\n",
    "    # constructor\n",
    "    def __init__(self,name, age):\n",
    "        self.name= name\n",
    "        self.age = age\n",
    "dog1= Dog(\"Tommy\", 5)\n",
    "dog2= Dog(\"Rocky\", 3)\n",
    "print(dog1.name, dog1.age)\n",
    "print(dog2.name, dog2.age)\n",
    "\n"
   ]
  },
  {
   "cell_type": "code",
   "execution_count": 9,
   "id": "566aa08f",
   "metadata": {},
   "outputs": [
    {
     "name": "stdout",
     "output_type": "stream",
     "text": [
      "Woof! Woof!\n"
     ]
    }
   ],
   "source": [
    "class Dog:\n",
    "    # constructor\n",
    "    def __init__(self,name, age):\n",
    "        self.name= name\n",
    "        self.age = age\n",
    "    def bark(self):\n",
    "        print(\"Woof! Woof!\")\n",
    "\n",
    "dog1= Dog(\"Tommy\", 5)\n",
    "dog2= Dog(\"Rocky\", 3)\n",
    "dog1.bark()"
   ]
  },
  {
   "cell_type": "code",
   "execution_count": 10,
   "id": "a4ad24b8",
   "metadata": {},
   "outputs": [],
   "source": [
    "# modelling a bank account\n",
    "# define class for bnk account\n",
    "class BankAccount:\n",
    "    def __init__(self, owner, balance=0):\n",
    "        self.owner = owner\n",
    "        self.balance = balance\n",
    "\n",
    "\n",
    "# owner and balance atrribute or instance variable\n",
    "\n",
    "# deposit anf withdraw methods\n",
    "    def deposit(self, amount):\n",
    "        self.balance += amount\n",
    "        print(f\"Deposited {amount}. New balance: {self.balance}\")\n",
    "\n",
    "    def withdraw(self, amount):\n",
    "        if amount <= self.balance:\n",
    "            self.balance -= amount\n",
    "            print(f\"Withdrew {amount}. New balance: {self.balance}\")\n",
    "        else:\n",
    "            print(\"Insufficient funds\")\n",
    "\n",
    "    def get_balance(self):\n",
    "        return self.balance\n"
   ]
  },
  {
   "cell_type": "code",
   "execution_count": 11,
   "id": "0c479d6c",
   "metadata": {},
   "outputs": [],
   "source": [
    "account1 = BankAccount(\"Alice\", 1000)"
   ]
  },
  {
   "cell_type": "code",
   "execution_count": 12,
   "id": "ddebced7",
   "metadata": {},
   "outputs": [
    {
     "name": "stdout",
     "output_type": "stream",
     "text": [
      "Withdrew 200. New balance: 800\n"
     ]
    }
   ],
   "source": [
    "account1.withdraw(200)"
   ]
  },
  {
   "cell_type": "code",
   "execution_count": 13,
   "id": "93b4a534",
   "metadata": {},
   "outputs": [
    {
     "name": "stdout",
     "output_type": "stream",
     "text": [
      "Insufficient funds\n"
     ]
    }
   ],
   "source": [
    "account1.withdraw(2000)"
   ]
  },
  {
   "cell_type": "markdown",
   "id": "7b25a437",
   "metadata": {},
   "source": [
    "INHERITANCE  class inherit attri and method from another class"
   ]
  },
  {
   "cell_type": "code",
   "execution_count": null,
   "id": "427218cb",
   "metadata": {},
   "outputs": [],
   "source": [
    "class Car:\n",
    "    def __init__(self, windows, doors,enginetype):\n",
    "        self.windows = windows\n",
    "        self.doors = doors\n",
    "        self.enginetype = enginetype\n",
    "\n",
    "# emginetype attri tats why we use self.\n",
    "    def drive(self):\n",
    "        print(f\"THe person will dribe {self.enginetype} car \")\n",
    "\n"
   ]
  },
  {
   "cell_type": "code",
   "execution_count": 16,
   "id": "f7507eb9",
   "metadata": {},
   "outputs": [
    {
     "name": "stdout",
     "output_type": "stream",
     "text": [
      "THe person will dribe petrol car \n"
     ]
    }
   ],
   "source": [
    "car1 = Car(4, 2, \"petrol\")\n",
    "car1.drive()"
   ]
  },
  {
   "cell_type": "code",
   "execution_count": 17,
   "id": "d0872bd7",
   "metadata": {},
   "outputs": [],
   "source": [
    "class Tesla(Car):\n",
    "\n",
    "    # super means i am calling parent class \n",
    "    def __init__(self, windows, doors, enginetype, autopilot):\n",
    "        super().__init__(windows, doors, enginetype)\n",
    "        self.autopilot = autopilot\n",
    "    def selfdrive(self):\n",
    "        print(f\"This Tesla can {self.autopilot} itself!\")\n",
    "    def drive(self):\n",
    "        super().drive()\n",
    "        print(f\"This Tesla has autopilot: {self.autopilot}\")"
   ]
  },
  {
   "cell_type": "code",
   "execution_count": 18,
   "id": "9d85e0c6",
   "metadata": {},
   "outputs": [
    {
     "name": "stdout",
     "output_type": "stream",
     "text": [
      "This Tesla can True itself!\n"
     ]
    }
   ],
   "source": [
    "tesla1= Tesla(4, 2, \"electric\", True)\n",
    "tesla1.selfdrive()"
   ]
  },
  {
   "cell_type": "code",
   "execution_count": null,
   "id": "f0bd6252",
   "metadata": {},
   "outputs": [],
   "source": [
    "# multiple inheri...class inheri from more than 1 class\n",
    "# if same fxn in parent as well as child is called thr child one is preffered\n",
    "\n",
    "\n"
   ]
  },
  {
   "cell_type": "markdown",
   "id": "5a394559",
   "metadata": {},
   "source": [
    "POLYMORPHISM allows obj oof 1 class to be treated as obj of a common superckass. allows single action in diff forms/ mthod overritng snd//\n"
   ]
  },
  {
   "cell_type": "markdown",
   "id": "bbc16ea7",
   "metadata": {},
   "source": [
    "method overiding mean child class a specific implementation of a method"
   ]
  },
  {
   "cell_type": "markdown",
   "id": "04905058",
   "metadata": {},
   "source": []
  },
  {
   "cell_type": "markdown",
   "id": "69bae22f",
   "metadata": {},
   "source": []
  },
  {
   "cell_type": "code",
   "execution_count": 2,
   "id": "3188d33d",
   "metadata": {},
   "outputs": [
    {
     "name": "stdout",
     "output_type": "stream",
     "text": [
      "Woof! Woof!\n",
      "Meow! Meow!\n",
      "Woof! Woof!\n"
     ]
    }
   ],
   "source": [
    "class Animal:\n",
    "    def speak(self):\n",
    "        return \"Sound of animal\"\n",
    "# method overwritte in its derved class\n",
    "\n",
    "\n",
    "class Dog(Animal):\n",
    "    def speak(self):\n",
    "        return \"Woof! Woof!\"\n",
    "    \n",
    "class Cat(Animal):#dervived class2\n",
    "    def speak(self):\n",
    "        return \"Meow! Meow!\"\n",
    "    \n",
    "# fxn demonstartes polymorphism\n",
    "#this fxn takes an animal object and calls its speak method\n",
    "# polymorphism means same fxn name but different behaviour in different classes\n",
    "def animal_sound(animal):\n",
    "    print(animal.speak())\n",
    "\n",
    "\n",
    "\n",
    "\n",
    "\n",
    "\n",
    "\n",
    "\n",
    "\n",
    "\n",
    "\n",
    "\n",
    "dog= Dog()\n",
    "cat = Cat()\n",
    "print(dog.speak())  # Output: Woof! Woof!\n",
    "print(cat.speak())  # Output: Meow! Meow!\n",
    "# Using polymorphism\n",
    "animal_sound(dog)  # Output: Woof! Woof!"
   ]
  },
  {
   "cell_type": "code",
   "execution_count": 5,
   "id": "bd9d8121",
   "metadata": {},
   "outputs": [],
   "source": [
    "class Shape:\n",
    "    def area(self):\n",
    "        return \"The area of figure\" # This method will be overridden in derived classes\n",
    "    \n",
    "class Rectangle(Shape):\n",
    "    def __init__(self, width, height):\n",
    "        self.width = width\n",
    "        self.height = height\n",
    "    \n",
    "    def area(self):\n",
    "        return self.width * self.height\n",
    "\n",
    "class Circle(Shape):\n",
    "    def __init__(self, radius):\n",
    "        self.radius = radius\n",
    "    \n",
    "    def area(self):\n",
    "        return 3.14 * (self.radius ** 2)\n",
    "    \n",
    "def print_area(shape):\n",
    "    print(f\"The area is: {shape.area()}\")\n",
    "\n",
    "rectangle = Rectangle(5, 10)\n",
    "circle = Circle(7)\n"
   ]
  },
  {
   "cell_type": "code",
   "execution_count": null,
   "id": "08e518a5",
   "metadata": {},
   "outputs": [],
   "source": []
  },
  {
   "cell_type": "markdown",
   "id": "3f5154d2",
   "metadata": {},
   "source": [
    "abstract base class used define comn methods for grp of related objs. They can enforce derivr=ed classes implement particular ethods promoting consistency across diff imple"
   ]
  },
  {
   "cell_type": "code",
   "execution_count": 7,
   "id": "efe1fba8",
   "metadata": {},
   "outputs": [
    {
     "name": "stdout",
     "output_type": "stream",
     "text": [
      "Car engine started\n"
     ]
    }
   ],
   "source": [
    "from abc import ABC, abstractmethod\n",
    "# define an abstract base class\n",
    "class Vehicle(ABC):\n",
    "    @abstractmethod\n",
    "    def start_engine(self):\n",
    "        pass\n",
    "    \n",
    "class Car(Vehicle):\n",
    "    def start_engine(self):\n",
    "        print(\"Car engine started\")\n",
    "# derived class 2\n",
    "class Motorcycle(Vehicle):\n",
    "    def start_engine(self):\n",
    "        print(\"Motorcycle engine started\")\n",
    "# fxn demonstarting polymmorphism\n",
    "def start_vehicle(vehicle):\n",
    "    vehicle.start_engine()\n",
    "\n",
    "car= Car()\n",
    "motorcycle = Motorcycle()\n",
    "\n",
    "start_vehicle(car)        # Output: Car engine started"
   ]
  },
  {
   "cell_type": "code",
   "execution_count": null,
   "id": "25b30896",
   "metadata": {},
   "outputs": [],
   "source": []
  },
  {
   "cell_type": "code",
   "execution_count": null,
   "id": "0ae018ea",
   "metadata": {},
   "outputs": [],
   "source": []
  },
  {
   "cell_type": "markdown",
   "id": "a87d661d",
   "metadata": {},
   "source": [
    "# ENCAPSULATION AND ABSTRACTIon\n",
    "\n"
   ]
  },
  {
   "cell_type": "markdown",
   "id": "7b4be033",
   "metadata": {},
   "source": [
    "wrap data(varI) and metjods(fxn) together as a single unit. restricts direct acess to some of obj compowhich is a menas prevent accidental intetference and misuse"
   ]
  },
  {
   "cell_type": "markdown",
   "id": "4f4deb94",
   "metadata": {},
   "source": []
  },
  {
   "cell_type": "code",
   "execution_count": null,
   "id": "1eb43f12",
   "metadata": {},
   "outputs": [
    {
     "name": "stdout",
     "output_type": "stream",
     "text": [
      "John 30\n"
     ]
    }
   ],
   "source": [
    "class Person:\n",
    "    def __init__(self, name, age):\n",
    "        self.name = name\n",
    "        self.age = age\n",
    "\n",
    "person=Person(\"John\", 30)\n",
    "print(person.name, person.age)\n",
    "    "
   ]
  },
  {
   "cell_type": "code",
   "execution_count": 9,
   "id": "e41da34e",
   "metadata": {},
   "outputs": [
    {
     "data": {
      "text/plain": [
       "['__class__',\n",
       " '__delattr__',\n",
       " '__dict__',\n",
       " '__dir__',\n",
       " '__doc__',\n",
       " '__eq__',\n",
       " '__format__',\n",
       " '__ge__',\n",
       " '__getattribute__',\n",
       " '__getstate__',\n",
       " '__gt__',\n",
       " '__hash__',\n",
       " '__init__',\n",
       " '__init_subclass__',\n",
       " '__le__',\n",
       " '__lt__',\n",
       " '__module__',\n",
       " '__ne__',\n",
       " '__new__',\n",
       " '__reduce__',\n",
       " '__reduce_ex__',\n",
       " '__repr__',\n",
       " '__setattr__',\n",
       " '__sizeof__',\n",
       " '__str__',\n",
       " '__subclasshook__',\n",
       " '__weakref__',\n",
       " 'age',\n",
       " 'name']"
      ]
     },
     "execution_count": 9,
     "metadata": {},
     "output_type": "execute_result"
    }
   ],
   "source": [
    "dir(person)"
   ]
  },
  {
   "cell_type": "code",
   "execution_count": null,
   "id": "4b386211",
   "metadata": {},
   "outputs": [
    {
     "name": "stdout",
     "output_type": "stream",
     "text": [
      "John 30\n"
     ]
    },
    {
     "data": {
      "text/plain": [
       "'John'"
      ]
     },
     "execution_count": 10,
     "metadata": {},
     "output_type": "execute_result"
    }
   ],
   "source": [
    "class Person:\n",
    "    def __init__(self, name, age):\n",
    "        self.name = name\n",
    "        self.age = age\n",
    "def get_name(person):\n",
    "    return person.name\n",
    "# fxn can easily access the attributes of the person object\n",
    "\n",
    "person=Person(\"John\", 30)\n",
    "print(person.name, person.age)\n",
    "get_name(person)  # Output: John"
   ]
  },
  {
   "cell_type": "code",
   "execution_count": 16,
   "id": "14878c44",
   "metadata": {},
   "outputs": [],
   "source": [
    "class Person:\n",
    "    def __init__(self, name, age,gender):\n",
    "        self.__name = name\n",
    "        self.__age = age\n",
    "    # private attributes are not accessible outside the class\n",
    "    # to access them we need to use getter methods\n",
    "        self.gender=gender\n",
    "    \n",
    "def get_name(person):\n",
    "    return person.__name\n",
    "\n",
    "def get_name_ilegally(person):\n",
    "    return person._Person__name  # Accessing private attribute using name mangling"
   ]
  },
  {
   "cell_type": "code",
   "execution_count": 12,
   "id": "18c84dac",
   "metadata": {},
   "outputs": [],
   "source": [
    "person=Person(\"John\", 30, \"M\")"
   ]
  },
  {
   "cell_type": "code",
   "execution_count": 15,
   "id": "3bbe4782",
   "metadata": {},
   "outputs": [
    {
     "ename": "AttributeError",
     "evalue": "'Person' object has no attribute '__name'",
     "output_type": "error",
     "traceback": [
      "\u001b[1;31m---------------------------------------------------------------------------\u001b[0m",
      "\u001b[1;31mAttributeError\u001b[0m                            Traceback (most recent call last)",
      "Cell \u001b[1;32mIn[15], line 1\u001b[0m\n\u001b[1;32m----> 1\u001b[0m \u001b[43mget_name\u001b[49m\u001b[43m(\u001b[49m\u001b[43mperson\u001b[49m\u001b[43m)\u001b[49m  \u001b[38;5;66;03m# Output: John\u001b[39;00m\n",
      "Cell \u001b[1;32mIn[14], line 10\u001b[0m, in \u001b[0;36mget_name\u001b[1;34m(person)\u001b[0m\n\u001b[0;32m      9\u001b[0m \u001b[38;5;28;01mdef\u001b[39;00m \u001b[38;5;21mget_name\u001b[39m(person):\n\u001b[1;32m---> 10\u001b[0m     \u001b[38;5;28;01mreturn\u001b[39;00m \u001b[43mperson\u001b[49m\u001b[38;5;241;43m.\u001b[39;49m\u001b[43m__name\u001b[49m\n",
      "\u001b[1;31mAttributeError\u001b[0m: 'Person' object has no attribute '__name'"
     ]
    }
   ],
   "source": [
    "get_name(person)  # Output: John"
   ]
  },
  {
   "cell_type": "code",
   "execution_count": 17,
   "id": "a03c5edc",
   "metadata": {},
   "outputs": [
    {
     "data": {
      "text/plain": [
       "'John'"
      ]
     },
     "execution_count": 17,
     "metadata": {},
     "output_type": "execute_result"
    }
   ],
   "source": [
    "get_name_ilegally(person)  # Output: John"
   ]
  },
  {
   "cell_type": "code",
   "execution_count": 13,
   "id": "0a6a2b29",
   "metadata": {},
   "outputs": [
    {
     "data": {
      "text/plain": [
       "['_Person__age',\n",
       " '_Person__name',\n",
       " '__class__',\n",
       " '__delattr__',\n",
       " '__dict__',\n",
       " '__dir__',\n",
       " '__doc__',\n",
       " '__eq__',\n",
       " '__format__',\n",
       " '__ge__',\n",
       " '__getattribute__',\n",
       " '__getstate__',\n",
       " '__gt__',\n",
       " '__hash__',\n",
       " '__init__',\n",
       " '__init_subclass__',\n",
       " '__le__',\n",
       " '__lt__',\n",
       " '__module__',\n",
       " '__ne__',\n",
       " '__new__',\n",
       " '__reduce__',\n",
       " '__reduce_ex__',\n",
       " '__repr__',\n",
       " '__setattr__',\n",
       " '__sizeof__',\n",
       " '__str__',\n",
       " '__subclasshook__',\n",
       " '__weakref__',\n",
       " 'gender']"
      ]
     },
     "execution_count": 13,
     "metadata": {},
     "output_type": "execute_result"
    }
   ],
   "source": [
    "dir(person)"
   ]
  },
  {
   "cell_type": "code",
   "execution_count": 19,
   "id": "a17b6de4",
   "metadata": {},
   "outputs": [],
   "source": [
    "class Person:\n",
    "    def __init__(self, name, age,gender):\n",
    "        self._name = name\n",
    "        self._age = age\n",
    "    # protected attributes are not accessible outside the class\n",
    "    # to access them we need to use getter methods\n",
    "        self.gender=gender\n",
    "    \n",
    "class Employee(Person):\n",
    "    def __init__(self, name, age, gender):\n",
    "        super().__init__(name, age,gender)\n",
    "\n",
    "def get_name(person):\n",
    "    return person.__name\n",
    "\n",
    "def get_name_ilegally(person):\n",
    "    return person._Person__name  # Accessing private attribute using name mangling"
   ]
  },
  {
   "cell_type": "code",
   "execution_count": 20,
   "id": "0595bb8f",
   "metadata": {},
   "outputs": [],
   "source": [
    "employee=Employee(\"John\", 30, \"M\")"
   ]
  },
  {
   "cell_type": "code",
   "execution_count": 21,
   "id": "bc57b7fe",
   "metadata": {},
   "outputs": [
    {
     "name": "stdout",
     "output_type": "stream",
     "text": [
      "John\n"
     ]
    }
   ],
   "source": [
    "print(employee._name)  # Accessing protected attribute (not recommended)"
   ]
  },
  {
   "cell_type": "code",
   "execution_count": 22,
   "id": "f21bbf08",
   "metadata": {},
   "outputs": [],
   "source": [
    "# encapsulation with getter and setter\n",
    "\n",
    "class Person:\n",
    "    def __init__(self, name, age):\n",
    "        self.__name = name\n",
    "        self.__age = age\n",
    "    \n",
    "    def get_name(self):\n",
    "        return self.__name\n",
    "    def set_name(self, name):\n",
    "        self.__name = name\n",
    "\n",
    "    def get_age(self):\n",
    "        return self.__age\n",
    "    \n",
    "    def set_age(self, age):\n",
    "        if age >= 0:\n",
    "            self.__age = age\n",
    "        else:\n",
    "            print(\"Age cannot be negative\")"
   ]
  },
  {
   "cell_type": "code",
   "execution_count": 23,
   "id": "726c5418",
   "metadata": {},
   "outputs": [
    {
     "name": "stdout",
     "output_type": "stream",
     "text": [
      "John\n",
      "30\n",
      "Alice\n",
      "25\n"
     ]
    }
   ],
   "source": [
    "person=Person(\"John\", 30)\n",
    "print(person.get_name())  # Output: John\n",
    "print(person.get_age())   # Output: 30\n",
    "person.set_name(\"Alice\")\n",
    "print(person.get_name())  # Output: Alice\n",
    "person.set_age(25)\n",
    "print(person.get_age())   # Output: 25"
   ]
  },
  {
   "cell_type": "code",
   "execution_count": null,
   "id": "83c49be2",
   "metadata": {},
   "outputs": [],
   "source": []
  },
  {
   "cell_type": "markdown",
   "id": "5a47cff8",
   "metadata": {},
   "source": [
    "#ABSTRACTION "
   ]
  },
  {
   "cell_type": "markdown",
   "id": "6cf3ff3b",
   "metadata": {},
   "source": [
    "hide complex imple details and show necesaary features of obj"
   ]
  },
  {
   "cell_type": "markdown",
   "id": "684ca8f9",
   "metadata": {},
   "source": []
  },
  {
   "cell_type": "code",
   "execution_count": 24,
   "id": "65f6379e",
   "metadata": {},
   "outputs": [
    {
     "name": "stdout",
     "output_type": "stream",
     "text": [
      "Car engine started\n",
      "Driving the vehicle\n"
     ]
    }
   ],
   "source": [
    "from abc import ABC, abstractmethod\n",
    "# diff btwn noraml and abstrat class is in absclass we inherit ABC\n",
    "##Abstract class\n",
    "class Vehicle(ABC):\n",
    "    \n",
    "    def drive(self):\n",
    "        print(\"Driving the vehicle\")\n",
    "    @abstractmethod\n",
    "    def start_engine(self):\n",
    "        pass\n",
    "# Normal class\n",
    "class Car(Vehicle):\n",
    "    def start_engine(self):\n",
    "        print(\"Car engine started\")\n",
    "def operate_vehicle(vehicle):\n",
    "    vehicle.start_engine()\n",
    "    vehicle.drive()\n",
    "\n",
    "\n",
    "car = Car()\n",
    "operate_vehicle(car)  # Output: Car engine started"
   ]
  },
  {
   "cell_type": "code",
   "execution_count": null,
   "id": "63c62416",
   "metadata": {},
   "outputs": [],
   "source": []
  }
 ],
 "metadata": {
  "kernelspec": {
   "display_name": "Python 3",
   "language": "python",
   "name": "python3"
  },
  "language_info": {
   "codemirror_mode": {
    "name": "ipython",
    "version": 3
   },
   "file_extension": ".py",
   "mimetype": "text/x-python",
   "name": "python",
   "nbconvert_exporter": "python",
   "pygments_lexer": "ipython3",
   "version": "3.11.9"
  }
 },
 "nbformat": 4,
 "nbformat_minor": 5
}
