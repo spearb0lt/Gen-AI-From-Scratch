{
 "cells": [
  {
   "cell_type": "code",
   "execution_count": null,
   "id": "056645dd",
   "metadata": {},
   "outputs": [],
   "source": []
  },
  {
   "cell_type": "markdown",
   "id": "8c9cc3fb",
   "metadata": {},
   "source": [
    "DUNDER METHODS\n",
    "\n",
    "__init__,__str__"
   ]
  },
  {
   "cell_type": "markdown",
   "id": "f904cb7f",
   "metadata": {},
   "source": [
    "def __"
   ]
  },
  {
   "cell_type": "code",
   "execution_count": 1,
   "id": "65400986",
   "metadata": {},
   "outputs": [
    {
     "name": "stdout",
     "output_type": "stream",
     "text": [
      "<__main__.Person object at 0x000002BC710C0B90>\n"
     ]
    }
   ],
   "source": [
    "class Person:\n",
    "    def __init__(self, name, age):\n",
    "        self.name = name\n",
    "        self.age = age\n",
    "person= Person(\"John\", 30)\n",
    "print(person)"
   ]
  },
  {
   "cell_type": "code",
   "execution_count": 2,
   "id": "7e8a31e7",
   "metadata": {},
   "outputs": [
    {
     "name": "stdout",
     "output_type": "stream",
     "text": [
      "Person(name=John, age=30)\n"
     ]
    }
   ],
   "source": [
    "class Person:\n",
    "    def __init__(self, name, age):\n",
    "        self.name = name\n",
    "        self.age = age\n",
    "    def __str__(self):\n",
    "        return f\"Person(name={self.name}, age={self.age})\"\n",
    "person= Person(\"John\", 30)\n",
    "print(person)"
   ]
  },
  {
   "cell_type": "code",
   "execution_count": 3,
   "id": "e5aaf658",
   "metadata": {},
   "outputs": [
    {
     "name": "stdout",
     "output_type": "stream",
     "text": [
      "Person(name=John, age=30)\n",
      "Person(name=John, age=30)\n"
     ]
    }
   ],
   "source": [
    "class Person:\n",
    "    def __init__(self, name, age):\n",
    "        self.name = name\n",
    "        self.age = age\n",
    "    def __str__(self):\n",
    "        return f\"Person(name={self.name}, age={self.age})\"\n",
    "\n",
    "    def __repr__(self):\n",
    "        return f\"Person(name={self.name}, age={self.age})\"\n",
    "person= Person(\"John\", 30)\n",
    "print(person)\n",
    "print(repr(person))"
   ]
  },
  {
   "cell_type": "code",
   "execution_count": null,
   "id": "fe42f95c",
   "metadata": {},
   "outputs": [],
   "source": [
    "\"\"\"__eq__ and __ne__ are used to compare objects for equality and inequality, respectively.\n",
    "__lt__, __le__, __gt__, and __ge__ are used for less than, less than or equal to, greater than, and greater than or equal to comparisons.\n",
    "__add__, __sub__, __mul__, __truediv__, and __floordiv__ are used for arithmetic operations like addition, subtraction, multiplication, division, and floor division.\n",
    "__len__ is used to define the behavior of the built-in len() function for an object.\n",
    "__getitem__ and __setitem__ are used to define behavior for indexing and assignment in objects\n",
    "    __call__ allows an instance of a class to be called as if it were a function.\n",
    "    __enter__ and __exit__ are used to define the behavior of a context manager, allowing for resource management.\n",
    "    __iter__ and __next__ are used to make an object iterable, allowing it to be used in a for loop or with functions like list() and tuple().\n",
    "    __hash__ is used to define a hash value for an object, which is important for using objects as keys in dictionaries or elements in sets.\n",
    "    __contains__ is used to define the behavior of the in operator for an object, allowing\n",
    "    __str__ is used to define a string representation of an object, which is returned when the object is printed or converted to a string.\n",
    "    __repr__ is used to define a more detailed string representation of an object, which is\n",
    "    __init__ is used to initialize an object when it is created, allowing you to set initial values for its attributes.\n",
    "    __del__ is used to define cleanup behavior when an object is about to be destroyed, allowing you to release resources or perform other cleanup tasks.\n",
    "    __getattr__ and __setattr__ are used to define custom behavior for attribute access\n",
    "\n",
    "    \n",
    "    \"\"\""
   ]
  },
  {
   "cell_type": "code",
   "execution_count": 4,
   "id": "b994c95c",
   "metadata": {},
   "outputs": [],
   "source": [
    "class Vector:\n",
    "    def __init__(self, x, y):\n",
    "        self.x = x\n",
    "        self.y = y\n",
    "\n",
    "    def __add__(self, other):\n",
    "        return Vector(self.x + other.x, self.y + other.y)\n",
    "\n",
    "    def __sub__(self, other):\n",
    "        return Vector(self.x - other.x, self.y - other.y)\n",
    "\n",
    "    def __mul__(self, scalar):\n",
    "        return Vector(self.x * scalar, self.y * scalar)\n",
    "\n",
    "    # def __truediv__(self, scalar):\n",
    "    #     return Vector(self.x / scalar, self.y / scalar)\n",
    "\n",
    "    def __repr__(self):\n",
    "        return f\"Vector({self.x}, {self.y})\"\n",
    "\n",
    "    def __eq__(self, other):\n",
    "        return self.x == other.x and self.y == other.y"
   ]
  },
  {
   "cell_type": "code",
   "execution_count": 6,
   "id": "c4dc846c",
   "metadata": {},
   "outputs": [
    {
     "name": "stdout",
     "output_type": "stream",
     "text": [
      "Vector(6, 8)\n",
      "Vector(-2, -2)\n",
      "Vector(4, 6)\n"
     ]
    }
   ],
   "source": [
    "v1= Vector(2, 3)\n",
    "v2= Vector(4, 5)\n",
    "print(v1 + v2)  # Vector(6, 8)\n",
    "print(v1 - v2)  # Vector(-2, -2)\n",
    "print(v1 * 2)   # Vector(4, 6)"
   ]
  },
  {
   "cell_type": "code",
   "execution_count": null,
   "id": "abde0bf6",
   "metadata": {},
   "outputs": [],
   "source": []
  }
 ],
 "metadata": {
  "kernelspec": {
   "display_name": "Python 3",
   "language": "python",
   "name": "python3"
  },
  "language_info": {
   "codemirror_mode": {
    "name": "ipython",
    "version": 3
   },
   "file_extension": ".py",
   "mimetype": "text/x-python",
   "name": "python",
   "nbconvert_exporter": "python",
   "pygments_lexer": "ipython3",
   "version": "3.11.9"
  }
 },
 "nbformat": 4,
 "nbformat_minor": 5
}
