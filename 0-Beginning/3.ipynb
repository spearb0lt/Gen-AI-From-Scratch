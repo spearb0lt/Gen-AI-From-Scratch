{
 "cells": [
  {
   "cell_type": "code",
   "execution_count": null,
   "id": "5235fd57",
   "metadata": {},
   "outputs": [],
   "source": [
    "with open)('input.txt', 'r') as file:\n",
    "    content= file.read()\n",
    "    "
   ]
  },
  {
   "cell_type": "code",
   "execution_count": null,
   "id": "6f483d97",
   "metadata": {},
   "outputs": [],
   "source": [
    "with open)('input.txt', 'r') as file:\n",
    "    for line in file:\n",
    "        print(line.strip())\n",
    "    "
   ]
  },
  {
   "cell_type": "code",
   "execution_count": 1,
   "id": "526bed7f",
   "metadata": {},
   "outputs": [],
   "source": [
    "with open('example.txt', 'w') as file:\n",
    "    file.write('Hello, World!\\n')\n",
    "    file.write('This is a test file.\\n')"
   ]
  },
  {
   "cell_type": "code",
   "execution_count": 2,
   "id": "65f4dd04",
   "metadata": {},
   "outputs": [],
   "source": [
    "# to write wo overwrit use\n",
    "with open('example.txt', 'a') as file:\n",
    "    file.write('Appending a new line.\\n')\n",
    "    file.write('This is another appended line.\\n')\n"
   ]
  },
  {
   "cell_type": "code",
   "execution_count": 3,
   "id": "139c55dc",
   "metadata": {},
   "outputs": [],
   "source": [
    "lines=['btrg g gtrg\\n',\n",
    "        'btrg g gtrg\\n', 'this is a test\\n',]\n",
    "with open('example.txt', 'a') as file:\n",
    "    file.writelines(lines)"
   ]
  },
  {
   "cell_type": "code",
   "execution_count": 5,
   "id": "fe5138b0",
   "metadata": {},
   "outputs": [],
   "source": [
    "### binary\n",
    "\n",
    "data=b'\\x00\\x01\\x02\\x03\\x04\\x05\\x06\\x07\\x08\\t\\n\\x0b\\x0c\\r\\x0e\\x0f'\n",
    "with open('binary_file.bin', 'wb') as file:\n",
    "    file.write(data)"
   ]
  },
  {
   "cell_type": "code",
   "execution_count": 12,
   "id": "4fbf79e0",
   "metadata": {},
   "outputs": [
    {
     "name": "stdout",
     "output_type": "stream",
     "text": [
      "\u0000\u0001\u0002\u0003\u0004\u0005\u0006\t\n",
      "\u000b\f\n",
      "\u000e\u000f\n"
     ]
    }
   ],
   "source": [
    "with open('binary_file.bin', 'r') as file:\n",
    "    content = file.read()\n",
    "    print(content)"
   ]
  },
  {
   "cell_type": "code",
   "execution_count": 14,
   "id": "cd709b8e",
   "metadata": {},
   "outputs": [
    {
     "name": "stdout",
     "output_type": "stream",
     "text": [
      "\u0000\u0001\u0002\u0003\u0004\u0005\u0006\t\n",
      "\u000b\f\n",
      "\u000e\u000f\n"
     ]
    }
   ],
   "source": [
    "with open('example.txt', 'w+') as file:\n",
    "    file.write('Hello, World!\\n')\n",
    "    file.write('This is a test file.\\n')\n",
    "    file.seek(0)  # Move the file pointer to the beginning of the file\n",
    "    print(content)\n",
    "    "
   ]
  },
  {
   "cell_type": "code",
   "execution_count": 10,
   "id": "b3fb04c2",
   "metadata": {},
   "outputs": [
    {
     "ename": "ValueError",
     "evalue": "I/O operation on closed file.",
     "output_type": "error",
     "traceback": [
      "\u001b[1;31m---------------------------------------------------------------------------\u001b[0m",
      "\u001b[1;31mValueError\u001b[0m                                Traceback (most recent call last)",
      "Cell \u001b[1;32mIn[10], line 1\u001b[0m\n\u001b[1;32m----> 1\u001b[0m \u001b[43mfile\u001b[49m\u001b[38;5;241;43m.\u001b[39;49m\u001b[43mseek\u001b[49m\u001b[43m(\u001b[49m\u001b[38;5;241;43m0\u001b[39;49m\u001b[43m)\u001b[49m  \u001b[38;5;66;03m# Move the file pointer to the beginning of the file\u001b[39;00m\n\u001b[0;32m      2\u001b[0m \u001b[38;5;28mprint\u001b[39m(content)\n",
      "\u001b[1;31mValueError\u001b[0m: I/O operation on closed file."
     ]
    }
   ],
   "source": [
    "file.seek(0)  # Move the file pointer to the beginning of the file\n",
    "print(content)"
   ]
  },
  {
   "cell_type": "code",
   "execution_count": 17,
   "id": "f3d61c89",
   "metadata": {},
   "outputs": [],
   "source": [
    "import os\n",
    "new_directory = \"pack\"\n",
    "os.mkdir(new_directory)\n"
   ]
  },
  {
   "cell_type": "code",
   "execution_count": 20,
   "id": "eee0a26a",
   "metadata": {},
   "outputs": [
    {
     "name": "stdout",
     "output_type": "stream",
     "text": [
      "['1.ipynb', '2.ipynb', '3.ipynb', 'binary_file.bin', 'environment.txt', 'example.txt', 'pack', 'package2', 'packagem']\n"
     ]
    }
   ],
   "source": [
    "items=os.listdir(\".\")\n",
    "print(items)"
   ]
  },
  {
   "cell_type": "code",
   "execution_count": null,
   "id": "31447683",
   "metadata": {},
   "outputs": [],
   "source": [
    "joined_path = os.path.join(new_directory, \"example.txt\")"
   ]
  },
  {
   "cell_type": "code",
   "execution_count": null,
   "id": "43aae2c3",
   "metadata": {},
   "outputs": [],
   "source": [
    "full_path = os.path.abspath(joined_path)\n",
    "\n",
    "full_path = os.path.join(os.getcwd(), new_directory, \"example.txt\")\n"
   ]
  },
  {
   "cell_type": "code",
   "execution_count": null,
   "id": "dc09d281",
   "metadata": {},
   "outputs": [],
   "source": [
    "relative_path = os.path.relpath(full_path, new_directory)"
   ]
  }
 ],
 "metadata": {
  "kernelspec": {
   "display_name": "Python 3",
   "language": "python",
   "name": "python3"
  },
  "language_info": {
   "codemirror_mode": {
    "name": "ipython",
    "version": 3
   },
   "file_extension": ".py",
   "mimetype": "text/x-python",
   "name": "python",
   "nbconvert_exporter": "python",
   "pygments_lexer": "ipython3",
   "version": "3.11.9"
  }
 },
 "nbformat": 4,
 "nbformat_minor": 5
}
