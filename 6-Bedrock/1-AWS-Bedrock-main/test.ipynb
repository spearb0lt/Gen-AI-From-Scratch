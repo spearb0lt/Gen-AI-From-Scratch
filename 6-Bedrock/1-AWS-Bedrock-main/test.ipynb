{
 "cells": [
  {
   "cell_type": "code",
   "execution_count": 2,
   "id": "fe1b927d",
   "metadata": {},
   "outputs": [],
   "source": [
    "import json\n",
    "import os\n",
    "import sys\n",
    "import boto3\n",
    "import streamlit as st\n",
    "## We will be suing Titan Embeddings Model To generate Embedding\n",
    "\n",
    "from langchain_community.embeddings import BedrockEmbeddings\n",
    "from langchain.llms.bedrock import Bedrock\n",
    "\n",
    "## Data Ingestion\n",
    "\n",
    "import numpy as np\n",
    "from langchain.text_splitter import RecursiveCharacterTextSplitter\n",
    "from langchain_community.document_loaders import PyPDFDirectoryLoader\n",
    "\n",
    "# Vector Embedding And Vector Store\n",
    "\n",
    "from langchain.vectorstores import FAISS\n",
    "\n",
    "## LLm Models\n",
    "from langchain.prompts import PromptTemplate\n",
    "from langchain.chains import RetrievalQA\n",
    "\n",
    "bedrock = boto3.client(\"bedrock-runtime\", region_name=\"us-east-1\")\n"
   ]
  },
  {
   "cell_type": "code",
   "execution_count": 3,
   "id": "d192301e",
   "metadata": {},
   "outputs": [
    {
     "name": "stderr",
     "output_type": "stream",
     "text": [
      "C:\\Users\\ASUS\\AppData\\Local\\Temp\\ipykernel_452\\1187357506.py:1: LangChainDeprecationWarning: The class `BedrockEmbeddings` was deprecated in LangChain 0.2.11 and will be removed in 1.0. An updated version of the class exists in the :class:`~langchain-aws package and should be used instead. To use it run `pip install -U :class:`~langchain-aws` and import as `from :class:`~langchain_aws import BedrockEmbeddings``.\n",
      "  bedrock_embeddings = BedrockEmbeddings(\n"
     ]
    }
   ],
   "source": [
    "bedrock_embeddings = BedrockEmbeddings(\n",
    "    model_id=\"amazon.titan-embed-text-v1\",\n",
    "    client=bedrock\n",
    ")\n"
   ]
  },
  {
   "cell_type": "code",
   "execution_count": 4,
   "id": "c0cf9709",
   "metadata": {},
   "outputs": [],
   "source": [
    "def get_ai21_llm():\n",
    "    return Bedrock(\n",
    "        model_id=\"ai21.j2-mid-v1\",\n",
    "        client=bedrock,\n",
    "        model_kwargs={\"maxTokens\": 512, \"temperature\": 0.8}\n",
    "    )\n",
    "\n",
    "def get_llama2_llm():\n",
    "    return Bedrock(\n",
    "        model_id=\"meta.llama2-70b-chat-instruct-v2:0\",\n",
    "        client=bedrock,\n",
    "        model_kwargs={\"max_gen_len\": 512, \"temperature\": 0.8}\n",
    "    )\n"
   ]
  },
  {
   "cell_type": "code",
   "execution_count": 5,
   "id": "4020716b",
   "metadata": {},
   "outputs": [],
   "source": [
    "prompt_template = \"\"\"\n",
    "Human: Use the following pieces of context to provide a \n",
    "concise answer to the question at the end. Summarize in at least\n",
    "250 words with detailed explanations. If you don't know the answer,\n",
    "just say so; don’t hallucinate.\n",
    "\n",
    "<context>\n",
    "{context}\n",
    "</context>\n",
    "\n",
    "Question: {question}\n",
    "\n",
    "Assistant:\n",
    "\"\"\"\n",
    "\n",
    "PROMPT = PromptTemplate(\n",
    "    template=prompt_template,\n",
    "    input_variables=[\"context\", \"question\"]\n",
    ")\n"
   ]
  },
  {
   "cell_type": "code",
   "execution_count": 8,
   "id": "c50ee5b8",
   "metadata": {},
   "outputs": [
    {
     "name": "stdout",
     "output_type": "stream",
     "text": [
      "content=\"Here is my attempt at a Shakespearean-style poem on Generative AI:\\n\\nOde to Generative AI\\n\\nWhat wondrous craft doth now appear,\\nThis Generative AI so clear?\\nA magic mirror, reflecting light,\\nConjuring words with boundless might.\\n\\nThe poet's pen, now set to rest,\\nAs this new muse doth manifest\\nVerse and rhyme with effortless ease,\\nThoughts and fancies as it please.\\n\\nNo muse of old, nor mortal mind,\\nCan match the works that now we find.\\nThis AI, a new creative form,\\nDoth move the soul and spirit warm.\\n\\nYet still, the human heart must guide,\\nFor soulless words cannot abide. \\nThis tool, a boon to mortal men,\\nMust serve the Bard's immortal pen.\\n\\nSo let us wield this power with care,\\nLest soulless verse fill the air.\\nFor true inspiration yet must come\\nFrom that which stirs the human drum.\" additional_kwargs={'usage': {'prompt_tokens': 20, 'completion_tokens': 238, 'cache_read_input_tokens': 0, 'cache_write_input_tokens': 0, 'total_tokens': 258}, 'stop_reason': 'end_turn', 'thinking': {}, 'model_id': 'anthropic.claude-3-haiku-20240307-v1:0', 'model_name': 'anthropic.claude-3-haiku-20240307-v1:0'} response_metadata={'usage': {'prompt_tokens': 20, 'completion_tokens': 238, 'cache_read_input_tokens': 0, 'cache_write_input_tokens': 0, 'total_tokens': 258}, 'stop_reason': 'end_turn', 'thinking': {}, 'model_id': 'anthropic.claude-3-haiku-20240307-v1:0', 'model_name': 'anthropic.claude-3-haiku-20240307-v1:0'} id='run--73a1068c-c8eb-431d-a804-515166c938d1-0' usage_metadata={'input_tokens': 20, 'output_tokens': 238, 'total_tokens': 258, 'input_token_details': {'cache_creation': 0, 'cache_read': 0}}\n"
     ]
    }
   ],
   "source": [
    "from langchain_aws import ChatBedrock, BedrockEmbeddings\n",
    "import boto3\n",
    "\n",
    "# 1) Create your boto3 client\n",
    "bedrock_client = boto3.client(\"bedrock-runtime\", region_name=\"us-east-1\")\n",
    "\n",
    "# 2) Embeddings (Titan)\n",
    "embeddings = BedrockEmbeddings(\n",
    "    model_id=\"amazon.titan-embed-text-v1\",\n",
    "    client=bedrock_client\n",
    ")\n",
    "\n",
    "# 3) Chat model (Anthropic Claude Opus 4)\n",
    "llm = ChatBedrock(\n",
    "    model=\"anthropic.claude-3-haiku-20240307-v1:0\",\n",
    "    client=bedrock_client,\n",
    "    temperature=0.8,\n",
    "    max_tokens=512,\n",
    ")\n",
    "\n",
    "# Now llm.invoke(...) will automatically send your text under `prompt`,\n",
    "# handle messages vs. prompts, and use the right fields for Claude.\n",
    "response = llm.invoke(\"Act as Shakespeare and write a poem on Generative AI.\")\n",
    "print(response)\n"
   ]
  },
  {
   "cell_type": "code",
   "execution_count": 7,
   "id": "7e803d17",
   "metadata": {},
   "outputs": [
    {
     "name": "stdout",
     "output_type": "stream",
     "text": [
      "Collecting langchain-aws\n",
      "  Downloading langchain_aws-0.2.28-py3-none-any.whl.metadata (3.7 kB)\n",
      "Requirement already satisfied: boto3>=1.39.0 in c:\\users\\asus\\desktop\\gen-ai_from_scratch\\5-langchain\\venv\\lib\\site-packages (from langchain-aws) (1.39.3)\n",
      "Requirement already satisfied: langchain-core<0.4.0,>=0.3.68 in c:\\users\\asus\\desktop\\gen-ai_from_scratch\\5-langchain\\venv\\lib\\site-packages (from langchain-aws) (0.3.68)\n",
      "Requirement already satisfied: numpy<2,>=1 in c:\\users\\asus\\desktop\\gen-ai_from_scratch\\5-langchain\\venv\\lib\\site-packages (from langchain-aws) (1.26.4)\n",
      "Requirement already satisfied: pydantic<3,>=2.10.0 in c:\\users\\asus\\desktop\\gen-ai_from_scratch\\5-langchain\\venv\\lib\\site-packages (from langchain-aws) (2.11.7)\n",
      "Requirement already satisfied: langsmith>=0.3.45 in c:\\users\\asus\\desktop\\gen-ai_from_scratch\\5-langchain\\venv\\lib\\site-packages (from langchain-core<0.4.0,>=0.3.68->langchain-aws) (0.3.45)\n",
      "Requirement already satisfied: tenacity!=8.4.0,<10.0.0,>=8.1.0 in c:\\users\\asus\\desktop\\gen-ai_from_scratch\\5-langchain\\venv\\lib\\site-packages (from langchain-core<0.4.0,>=0.3.68->langchain-aws) (9.1.2)\n",
      "Requirement already satisfied: jsonpatch<2.0,>=1.33 in c:\\users\\asus\\desktop\\gen-ai_from_scratch\\5-langchain\\venv\\lib\\site-packages (from langchain-core<0.4.0,>=0.3.68->langchain-aws) (1.33)\n",
      "Requirement already satisfied: PyYAML>=5.3 in c:\\users\\asus\\desktop\\gen-ai_from_scratch\\5-langchain\\venv\\lib\\site-packages (from langchain-core<0.4.0,>=0.3.68->langchain-aws) (6.0.2)\n",
      "Requirement already satisfied: packaging<25,>=23.2 in c:\\users\\asus\\desktop\\gen-ai_from_scratch\\5-langchain\\venv\\lib\\site-packages (from langchain-core<0.4.0,>=0.3.68->langchain-aws) (24.2)\n",
      "Requirement already satisfied: typing-extensions>=4.7 in c:\\users\\asus\\desktop\\gen-ai_from_scratch\\5-langchain\\venv\\lib\\site-packages (from langchain-core<0.4.0,>=0.3.68->langchain-aws) (4.14.1)\n",
      "Requirement already satisfied: jsonpointer>=1.9 in c:\\users\\asus\\desktop\\gen-ai_from_scratch\\5-langchain\\venv\\lib\\site-packages (from jsonpatch<2.0,>=1.33->langchain-core<0.4.0,>=0.3.68->langchain-aws) (3.0.0)\n",
      "Requirement already satisfied: annotated-types>=0.6.0 in c:\\users\\asus\\desktop\\gen-ai_from_scratch\\5-langchain\\venv\\lib\\site-packages (from pydantic<3,>=2.10.0->langchain-aws) (0.7.0)\n",
      "Requirement already satisfied: pydantic-core==2.33.2 in c:\\users\\asus\\desktop\\gen-ai_from_scratch\\5-langchain\\venv\\lib\\site-packages (from pydantic<3,>=2.10.0->langchain-aws) (2.33.2)\n",
      "Requirement already satisfied: typing-inspection>=0.4.0 in c:\\users\\asus\\desktop\\gen-ai_from_scratch\\5-langchain\\venv\\lib\\site-packages (from pydantic<3,>=2.10.0->langchain-aws) (0.4.1)\n",
      "Requirement already satisfied: botocore<1.40.0,>=1.39.3 in c:\\users\\asus\\desktop\\gen-ai_from_scratch\\5-langchain\\venv\\lib\\site-packages (from boto3>=1.39.0->langchain-aws) (1.39.4)\n",
      "Requirement already satisfied: jmespath<2.0.0,>=0.7.1 in c:\\users\\asus\\desktop\\gen-ai_from_scratch\\5-langchain\\venv\\lib\\site-packages (from boto3>=1.39.0->langchain-aws) (1.0.1)\n",
      "Requirement already satisfied: s3transfer<0.14.0,>=0.13.0 in c:\\users\\asus\\desktop\\gen-ai_from_scratch\\5-langchain\\venv\\lib\\site-packages (from boto3>=1.39.0->langchain-aws) (0.13.0)\n",
      "Requirement already satisfied: python-dateutil<3.0.0,>=2.1 in c:\\users\\asus\\desktop\\gen-ai_from_scratch\\5-langchain\\venv\\lib\\site-packages (from botocore<1.40.0,>=1.39.3->boto3>=1.39.0->langchain-aws) (2.9.0.post0)\n",
      "Requirement already satisfied: urllib3!=2.2.0,<3,>=1.25.4 in c:\\users\\asus\\desktop\\gen-ai_from_scratch\\5-langchain\\venv\\lib\\site-packages (from botocore<1.40.0,>=1.39.3->boto3>=1.39.0->langchain-aws) (2.5.0)\n",
      "Requirement already satisfied: six>=1.5 in c:\\users\\asus\\desktop\\gen-ai_from_scratch\\5-langchain\\venv\\lib\\site-packages (from python-dateutil<3.0.0,>=2.1->botocore<1.40.0,>=1.39.3->boto3>=1.39.0->langchain-aws) (1.17.0)\n",
      "Requirement already satisfied: httpx<1,>=0.23.0 in c:\\users\\asus\\desktop\\gen-ai_from_scratch\\5-langchain\\venv\\lib\\site-packages (from langsmith>=0.3.45->langchain-core<0.4.0,>=0.3.68->langchain-aws) (0.28.1)\n",
      "Requirement already satisfied: orjson<4.0.0,>=3.9.14 in c:\\users\\asus\\desktop\\gen-ai_from_scratch\\5-langchain\\venv\\lib\\site-packages (from langsmith>=0.3.45->langchain-core<0.4.0,>=0.3.68->langchain-aws) (3.10.18)\n",
      "Requirement already satisfied: requests<3,>=2 in c:\\users\\asus\\desktop\\gen-ai_from_scratch\\5-langchain\\venv\\lib\\site-packages (from langsmith>=0.3.45->langchain-core<0.4.0,>=0.3.68->langchain-aws) (2.32.4)\n",
      "Requirement already satisfied: requests-toolbelt<2.0.0,>=1.0.0 in c:\\users\\asus\\desktop\\gen-ai_from_scratch\\5-langchain\\venv\\lib\\site-packages (from langsmith>=0.3.45->langchain-core<0.4.0,>=0.3.68->langchain-aws) (1.0.0)\n",
      "Requirement already satisfied: zstandard<0.24.0,>=0.23.0 in c:\\users\\asus\\desktop\\gen-ai_from_scratch\\5-langchain\\venv\\lib\\site-packages (from langsmith>=0.3.45->langchain-core<0.4.0,>=0.3.68->langchain-aws) (0.23.0)\n",
      "Requirement already satisfied: anyio in c:\\users\\asus\\desktop\\gen-ai_from_scratch\\5-langchain\\venv\\lib\\site-packages (from httpx<1,>=0.23.0->langsmith>=0.3.45->langchain-core<0.4.0,>=0.3.68->langchain-aws) (4.9.0)\n",
      "Requirement already satisfied: certifi in c:\\users\\asus\\desktop\\gen-ai_from_scratch\\5-langchain\\venv\\lib\\site-packages (from httpx<1,>=0.23.0->langsmith>=0.3.45->langchain-core<0.4.0,>=0.3.68->langchain-aws) (2025.6.15)\n",
      "Requirement already satisfied: httpcore==1.* in c:\\users\\asus\\desktop\\gen-ai_from_scratch\\5-langchain\\venv\\lib\\site-packages (from httpx<1,>=0.23.0->langsmith>=0.3.45->langchain-core<0.4.0,>=0.3.68->langchain-aws) (1.0.9)\n",
      "Requirement already satisfied: idna in c:\\users\\asus\\desktop\\gen-ai_from_scratch\\5-langchain\\venv\\lib\\site-packages (from httpx<1,>=0.23.0->langsmith>=0.3.45->langchain-core<0.4.0,>=0.3.68->langchain-aws) (3.10)\n",
      "Requirement already satisfied: h11>=0.16 in c:\\users\\asus\\desktop\\gen-ai_from_scratch\\5-langchain\\venv\\lib\\site-packages (from httpcore==1.*->httpx<1,>=0.23.0->langsmith>=0.3.45->langchain-core<0.4.0,>=0.3.68->langchain-aws) (0.16.0)\n",
      "Requirement already satisfied: charset_normalizer<4,>=2 in c:\\users\\asus\\desktop\\gen-ai_from_scratch\\5-langchain\\venv\\lib\\site-packages (from requests<3,>=2->langsmith>=0.3.45->langchain-core<0.4.0,>=0.3.68->langchain-aws) (3.4.2)\n",
      "Requirement already satisfied: exceptiongroup>=1.0.2 in c:\\users\\asus\\desktop\\gen-ai_from_scratch\\5-langchain\\venv\\lib\\site-packages (from anyio->httpx<1,>=0.23.0->langsmith>=0.3.45->langchain-core<0.4.0,>=0.3.68->langchain-aws) (1.3.0)\n",
      "Requirement already satisfied: sniffio>=1.1 in c:\\users\\asus\\desktop\\gen-ai_from_scratch\\5-langchain\\venv\\lib\\site-packages (from anyio->httpx<1,>=0.23.0->langsmith>=0.3.45->langchain-core<0.4.0,>=0.3.68->langchain-aws) (1.3.1)\n",
      "Downloading langchain_aws-0.2.28-py3-none-any.whl (121 kB)\n",
      "Installing collected packages: langchain-aws\n",
      "Successfully installed langchain-aws-0.2.28\n",
      "Note: you may need to restart the kernel to use updated packages.\n"
     ]
    }
   ],
   "source": [
    "pip install langchain-aws\n"
   ]
  },
  {
   "cell_type": "code",
   "execution_count": null,
   "id": "de4131c6",
   "metadata": {},
   "outputs": [],
   "source": []
  }
 ],
 "metadata": {
  "kernelspec": {
   "display_name": "Python 3",
   "language": "python",
   "name": "python3"
  },
  "language_info": {
   "codemirror_mode": {
    "name": "ipython",
    "version": 3
   },
   "file_extension": ".py",
   "mimetype": "text/x-python",
   "name": "python",
   "nbconvert_exporter": "python",
   "pygments_lexer": "ipython3",
   "version": "3.10.0"
  }
 },
 "nbformat": 4,
 "nbformat_minor": 5
}
