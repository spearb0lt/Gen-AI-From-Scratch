{
 "cells": [
  {
   "cell_type": "markdown",
   "metadata": {},
   "source": [
    "### Vector stores and retrievers\n",
    "This video tutorial will familiarize you with LangChain's vector store and retriever abstractions. These abstractions are designed to support retrieval of data-- from (vector) databases and other sources-- for integration with LLM workflows. They are important for applications that fetch data to be reasoned over as part of model inference, as in the case of retrieval-augmented generation.\n",
    "\n",
    "We will cover \n",
    "- Documents\n",
    "- Vector stores\n",
    "- Retrievers\n"
   ]
  },
  {
   "cell_type": "code",
   "execution_count": 1,
   "metadata": {},
   "outputs": [
    {
     "name": "stdout",
     "output_type": "stream",
     "text": [
      "Requirement already satisfied: langchain in c:\\users\\asus\\desktop\\gen-ai_from_scratch\\langchain\\venv\\lib\\site-packages (0.3.26)\n",
      "Requirement already satisfied: langchain-core<1.0.0,>=0.3.66 in c:\\users\\asus\\desktop\\gen-ai_from_scratch\\langchain\\venv\\lib\\site-packages (from langchain) (0.3.68)\n",
      "Requirement already satisfied: langchain-text-splitters<1.0.0,>=0.3.8 in c:\\users\\asus\\desktop\\gen-ai_from_scratch\\langchain\\venv\\lib\\site-packages (from langchain) (0.3.8)\n",
      "Requirement already satisfied: langsmith>=0.1.17 in c:\\users\\asus\\desktop\\gen-ai_from_scratch\\langchain\\venv\\lib\\site-packages (from langchain) (0.4.4)\n",
      "Requirement already satisfied: pydantic<3.0.0,>=2.7.4 in c:\\users\\asus\\desktop\\gen-ai_from_scratch\\langchain\\venv\\lib\\site-packages (from langchain) (2.11.7)\n",
      "Requirement already satisfied: SQLAlchemy<3,>=1.4 in c:\\users\\asus\\desktop\\gen-ai_from_scratch\\langchain\\venv\\lib\\site-packages (from langchain) (2.0.41)\n",
      "Requirement already satisfied: requests<3,>=2 in c:\\users\\asus\\desktop\\gen-ai_from_scratch\\langchain\\venv\\lib\\site-packages (from langchain) (2.32.4)\n",
      "Requirement already satisfied: PyYAML>=5.3 in c:\\users\\asus\\desktop\\gen-ai_from_scratch\\langchain\\venv\\lib\\site-packages (from langchain) (6.0.2)\n",
      "Requirement already satisfied: async-timeout<5.0.0,>=4.0.0 in c:\\users\\asus\\desktop\\gen-ai_from_scratch\\langchain\\venv\\lib\\site-packages (from langchain) (4.0.3)\n",
      "Requirement already satisfied: tenacity!=8.4.0,<10.0.0,>=8.1.0 in c:\\users\\asus\\desktop\\gen-ai_from_scratch\\langchain\\venv\\lib\\site-packages (from langchain-core<1.0.0,>=0.3.66->langchain) (9.1.2)\n",
      "Requirement already satisfied: jsonpatch<2.0,>=1.33 in c:\\users\\asus\\desktop\\gen-ai_from_scratch\\langchain\\venv\\lib\\site-packages (from langchain-core<1.0.0,>=0.3.66->langchain) (1.33)\n",
      "Requirement already satisfied: packaging<25,>=23.2 in c:\\users\\asus\\desktop\\gen-ai_from_scratch\\langchain\\venv\\lib\\site-packages (from langchain-core<1.0.0,>=0.3.66->langchain) (24.2)\n",
      "Requirement already satisfied: typing-extensions>=4.7 in c:\\users\\asus\\desktop\\gen-ai_from_scratch\\langchain\\venv\\lib\\site-packages (from langchain-core<1.0.0,>=0.3.66->langchain) (4.14.1)\n",
      "Requirement already satisfied: jsonpointer>=1.9 in c:\\users\\asus\\desktop\\gen-ai_from_scratch\\langchain\\venv\\lib\\site-packages (from jsonpatch<2.0,>=1.33->langchain-core<1.0.0,>=0.3.66->langchain) (3.0.0)\n",
      "Requirement already satisfied: annotated-types>=0.6.0 in c:\\users\\asus\\desktop\\gen-ai_from_scratch\\langchain\\venv\\lib\\site-packages (from pydantic<3.0.0,>=2.7.4->langchain) (0.7.0)\n",
      "Requirement already satisfied: pydantic-core==2.33.2 in c:\\users\\asus\\desktop\\gen-ai_from_scratch\\langchain\\venv\\lib\\site-packages (from pydantic<3.0.0,>=2.7.4->langchain) (2.33.2)\n",
      "Requirement already satisfied: typing-inspection>=0.4.0 in c:\\users\\asus\\desktop\\gen-ai_from_scratch\\langchain\\venv\\lib\\site-packages (from pydantic<3.0.0,>=2.7.4->langchain) (0.4.1)\n",
      "Requirement already satisfied: charset_normalizer<4,>=2 in c:\\users\\asus\\desktop\\gen-ai_from_scratch\\langchain\\venv\\lib\\site-packages (from requests<3,>=2->langchain) (3.4.2)\n",
      "Requirement already satisfied: idna<4,>=2.5 in c:\\users\\asus\\desktop\\gen-ai_from_scratch\\langchain\\venv\\lib\\site-packages (from requests<3,>=2->langchain) (3.10)\n",
      "Requirement already satisfied: urllib3<3,>=1.21.1 in c:\\users\\asus\\desktop\\gen-ai_from_scratch\\langchain\\venv\\lib\\site-packages (from requests<3,>=2->langchain) (2.5.0)\n",
      "Requirement already satisfied: certifi>=2017.4.17 in c:\\users\\asus\\desktop\\gen-ai_from_scratch\\langchain\\venv\\lib\\site-packages (from requests<3,>=2->langchain) (2025.6.15)\n",
      "Requirement already satisfied: greenlet>=1 in c:\\users\\asus\\desktop\\gen-ai_from_scratch\\langchain\\venv\\lib\\site-packages (from SQLAlchemy<3,>=1.4->langchain) (3.2.3)\n",
      "Requirement already satisfied: httpx<1,>=0.23.0 in c:\\users\\asus\\desktop\\gen-ai_from_scratch\\langchain\\venv\\lib\\site-packages (from langsmith>=0.1.17->langchain) (0.28.1)\n",
      "Requirement already satisfied: orjson<4.0.0,>=3.9.14 in c:\\users\\asus\\desktop\\gen-ai_from_scratch\\langchain\\venv\\lib\\site-packages (from langsmith>=0.1.17->langchain) (3.10.18)\n",
      "Requirement already satisfied: requests-toolbelt<2.0.0,>=1.0.0 in c:\\users\\asus\\desktop\\gen-ai_from_scratch\\langchain\\venv\\lib\\site-packages (from langsmith>=0.1.17->langchain) (1.0.0)\n",
      "Requirement already satisfied: zstandard<0.24.0,>=0.23.0 in c:\\users\\asus\\desktop\\gen-ai_from_scratch\\langchain\\venv\\lib\\site-packages (from langsmith>=0.1.17->langchain) (0.23.0)\n",
      "Requirement already satisfied: anyio in c:\\users\\asus\\desktop\\gen-ai_from_scratch\\langchain\\venv\\lib\\site-packages (from httpx<1,>=0.23.0->langsmith>=0.1.17->langchain) (4.9.0)\n",
      "Requirement already satisfied: httpcore==1.* in c:\\users\\asus\\desktop\\gen-ai_from_scratch\\langchain\\venv\\lib\\site-packages (from httpx<1,>=0.23.0->langsmith>=0.1.17->langchain) (1.0.9)\n",
      "Requirement already satisfied: h11>=0.16 in c:\\users\\asus\\desktop\\gen-ai_from_scratch\\langchain\\venv\\lib\\site-packages (from httpcore==1.*->httpx<1,>=0.23.0->langsmith>=0.1.17->langchain) (0.16.0)\n",
      "Requirement already satisfied: exceptiongroup>=1.0.2 in c:\\users\\asus\\desktop\\gen-ai_from_scratch\\langchain\\venv\\lib\\site-packages (from anyio->httpx<1,>=0.23.0->langsmith>=0.1.17->langchain) (1.3.0)\n",
      "Requirement already satisfied: sniffio>=1.1 in c:\\users\\asus\\desktop\\gen-ai_from_scratch\\langchain\\venv\\lib\\site-packages (from anyio->httpx<1,>=0.23.0->langsmith>=0.1.17->langchain) (1.3.1)\n",
      "Requirement already satisfied: langchain-chroma in c:\\users\\asus\\desktop\\gen-ai_from_scratch\\langchain\\venv\\lib\\site-packages (0.2.4)\n",
      "Requirement already satisfied: langchain-core>=0.3.60 in c:\\users\\asus\\desktop\\gen-ai_from_scratch\\langchain\\venv\\lib\\site-packages (from langchain-chroma) (0.3.68)\n",
      "Requirement already satisfied: numpy>=1.26.0 in c:\\users\\asus\\desktop\\gen-ai_from_scratch\\langchain\\venv\\lib\\site-packages (from langchain-chroma) (2.2.6)\n",
      "Requirement already satisfied: chromadb>=1.0.9 in c:\\users\\asus\\desktop\\gen-ai_from_scratch\\langchain\\venv\\lib\\site-packages (from langchain-chroma) (1.0.15)\n",
      "Requirement already satisfied: build>=1.0.3 in c:\\users\\asus\\desktop\\gen-ai_from_scratch\\langchain\\venv\\lib\\site-packages (from chromadb>=1.0.9->langchain-chroma) (1.2.2.post1)\n",
      "Requirement already satisfied: pydantic>=1.9 in c:\\users\\asus\\desktop\\gen-ai_from_scratch\\langchain\\venv\\lib\\site-packages (from chromadb>=1.0.9->langchain-chroma) (2.11.7)\n",
      "Requirement already satisfied: pybase64>=1.4.1 in c:\\users\\asus\\desktop\\gen-ai_from_scratch\\langchain\\venv\\lib\\site-packages (from chromadb>=1.0.9->langchain-chroma) (1.4.1)\n",
      "Requirement already satisfied: uvicorn>=0.18.3 in c:\\users\\asus\\desktop\\gen-ai_from_scratch\\langchain\\venv\\lib\\site-packages (from uvicorn[standard]>=0.18.3->chromadb>=1.0.9->langchain-chroma) (0.35.0)\n",
      "Requirement already satisfied: posthog<6.0.0,>=2.4.0 in c:\\users\\asus\\desktop\\gen-ai_from_scratch\\langchain\\venv\\lib\\site-packages (from chromadb>=1.0.9->langchain-chroma) (5.4.0)\n",
      "Requirement already satisfied: typing-extensions>=4.5.0 in c:\\users\\asus\\desktop\\gen-ai_from_scratch\\langchain\\venv\\lib\\site-packages (from chromadb>=1.0.9->langchain-chroma) (4.14.1)\n",
      "Requirement already satisfied: onnxruntime>=1.14.1 in c:\\users\\asus\\desktop\\gen-ai_from_scratch\\langchain\\venv\\lib\\site-packages (from chromadb>=1.0.9->langchain-chroma) (1.22.0)\n",
      "Requirement already satisfied: opentelemetry-api>=1.2.0 in c:\\users\\asus\\desktop\\gen-ai_from_scratch\\langchain\\venv\\lib\\site-packages (from chromadb>=1.0.9->langchain-chroma) (1.34.1)\n",
      "Requirement already satisfied: opentelemetry-exporter-otlp-proto-grpc>=1.2.0 in c:\\users\\asus\\desktop\\gen-ai_from_scratch\\langchain\\venv\\lib\\site-packages (from chromadb>=1.0.9->langchain-chroma) (1.34.1)\n",
      "Requirement already satisfied: opentelemetry-sdk>=1.2.0 in c:\\users\\asus\\desktop\\gen-ai_from_scratch\\langchain\\venv\\lib\\site-packages (from chromadb>=1.0.9->langchain-chroma) (1.34.1)\n",
      "Requirement already satisfied: tokenizers>=0.13.2 in c:\\users\\asus\\desktop\\gen-ai_from_scratch\\langchain\\venv\\lib\\site-packages (from chromadb>=1.0.9->langchain-chroma) (0.21.2)\n",
      "Requirement already satisfied: pypika>=0.48.9 in c:\\users\\asus\\desktop\\gen-ai_from_scratch\\langchain\\venv\\lib\\site-packages (from chromadb>=1.0.9->langchain-chroma) (0.48.9)\n",
      "Requirement already satisfied: tqdm>=4.65.0 in c:\\users\\asus\\desktop\\gen-ai_from_scratch\\langchain\\venv\\lib\\site-packages (from chromadb>=1.0.9->langchain-chroma) (4.67.1)\n",
      "Requirement already satisfied: overrides>=7.3.1 in c:\\users\\asus\\desktop\\gen-ai_from_scratch\\langchain\\venv\\lib\\site-packages (from chromadb>=1.0.9->langchain-chroma) (7.7.0)\n",
      "Requirement already satisfied: importlib-resources in c:\\users\\asus\\desktop\\gen-ai_from_scratch\\langchain\\venv\\lib\\site-packages (from chromadb>=1.0.9->langchain-chroma) (6.5.2)\n",
      "Requirement already satisfied: grpcio>=1.58.0 in c:\\users\\asus\\desktop\\gen-ai_from_scratch\\langchain\\venv\\lib\\site-packages (from chromadb>=1.0.9->langchain-chroma) (1.73.1)\n",
      "Requirement already satisfied: bcrypt>=4.0.1 in c:\\users\\asus\\desktop\\gen-ai_from_scratch\\langchain\\venv\\lib\\site-packages (from chromadb>=1.0.9->langchain-chroma) (4.3.0)\n",
      "Requirement already satisfied: typer>=0.9.0 in c:\\users\\asus\\desktop\\gen-ai_from_scratch\\langchain\\venv\\lib\\site-packages (from chromadb>=1.0.9->langchain-chroma) (0.16.0)\n",
      "Requirement already satisfied: kubernetes>=28.1.0 in c:\\users\\asus\\desktop\\gen-ai_from_scratch\\langchain\\venv\\lib\\site-packages (from chromadb>=1.0.9->langchain-chroma) (33.1.0)\n",
      "Requirement already satisfied: tenacity>=8.2.3 in c:\\users\\asus\\desktop\\gen-ai_from_scratch\\langchain\\venv\\lib\\site-packages (from chromadb>=1.0.9->langchain-chroma) (9.1.2)\n",
      "Requirement already satisfied: pyyaml>=6.0.0 in c:\\users\\asus\\desktop\\gen-ai_from_scratch\\langchain\\venv\\lib\\site-packages (from chromadb>=1.0.9->langchain-chroma) (6.0.2)\n",
      "Requirement already satisfied: mmh3>=4.0.1 in c:\\users\\asus\\desktop\\gen-ai_from_scratch\\langchain\\venv\\lib\\site-packages (from chromadb>=1.0.9->langchain-chroma) (5.1.0)\n",
      "Requirement already satisfied: orjson>=3.9.12 in c:\\users\\asus\\desktop\\gen-ai_from_scratch\\langchain\\venv\\lib\\site-packages (from chromadb>=1.0.9->langchain-chroma) (3.10.18)\n",
      "Requirement already satisfied: httpx>=0.27.0 in c:\\users\\asus\\desktop\\gen-ai_from_scratch\\langchain\\venv\\lib\\site-packages (from chromadb>=1.0.9->langchain-chroma) (0.28.1)\n",
      "Requirement already satisfied: rich>=10.11.0 in c:\\users\\asus\\desktop\\gen-ai_from_scratch\\langchain\\venv\\lib\\site-packages (from chromadb>=1.0.9->langchain-chroma) (14.0.0)\n",
      "Requirement already satisfied: jsonschema>=4.19.0 in c:\\users\\asus\\desktop\\gen-ai_from_scratch\\langchain\\venv\\lib\\site-packages (from chromadb>=1.0.9->langchain-chroma) (4.24.0)\n",
      "Requirement already satisfied: requests<3.0,>=2.7 in c:\\users\\asus\\desktop\\gen-ai_from_scratch\\langchain\\venv\\lib\\site-packages (from posthog<6.0.0,>=2.4.0->chromadb>=1.0.9->langchain-chroma) (2.32.4)\n",
      "Requirement already satisfied: six>=1.5 in c:\\users\\asus\\desktop\\gen-ai_from_scratch\\langchain\\venv\\lib\\site-packages (from posthog<6.0.0,>=2.4.0->chromadb>=1.0.9->langchain-chroma) (1.17.0)\n",
      "Requirement already satisfied: python-dateutil>=2.2 in c:\\users\\asus\\desktop\\gen-ai_from_scratch\\langchain\\venv\\lib\\site-packages (from posthog<6.0.0,>=2.4.0->chromadb>=1.0.9->langchain-chroma) (2.9.0.post0)\n",
      "Requirement already satisfied: backoff>=1.10.0 in c:\\users\\asus\\desktop\\gen-ai_from_scratch\\langchain\\venv\\lib\\site-packages (from posthog<6.0.0,>=2.4.0->chromadb>=1.0.9->langchain-chroma) (2.2.1)\n",
      "Requirement already satisfied: distro>=1.5.0 in c:\\users\\asus\\desktop\\gen-ai_from_scratch\\langchain\\venv\\lib\\site-packages (from posthog<6.0.0,>=2.4.0->chromadb>=1.0.9->langchain-chroma) (1.9.0)\n",
      "Requirement already satisfied: charset_normalizer<4,>=2 in c:\\users\\asus\\desktop\\gen-ai_from_scratch\\langchain\\venv\\lib\\site-packages (from requests<3.0,>=2.7->posthog<6.0.0,>=2.4.0->chromadb>=1.0.9->langchain-chroma) (3.4.2)\n",
      "Requirement already satisfied: idna<4,>=2.5 in c:\\users\\asus\\desktop\\gen-ai_from_scratch\\langchain\\venv\\lib\\site-packages (from requests<3.0,>=2.7->posthog<6.0.0,>=2.4.0->chromadb>=1.0.9->langchain-chroma) (3.10)\n",
      "Requirement already satisfied: urllib3<3,>=1.21.1 in c:\\users\\asus\\desktop\\gen-ai_from_scratch\\langchain\\venv\\lib\\site-packages (from requests<3.0,>=2.7->posthog<6.0.0,>=2.4.0->chromadb>=1.0.9->langchain-chroma) (2.5.0)\n",
      "Requirement already satisfied: certifi>=2017.4.17 in c:\\users\\asus\\desktop\\gen-ai_from_scratch\\langchain\\venv\\lib\\site-packages (from requests<3.0,>=2.7->posthog<6.0.0,>=2.4.0->chromadb>=1.0.9->langchain-chroma) (2025.6.15)\n",
      "Requirement already satisfied: packaging>=19.1 in c:\\users\\asus\\desktop\\gen-ai_from_scratch\\langchain\\venv\\lib\\site-packages (from build>=1.0.3->chromadb>=1.0.9->langchain-chroma) (24.2)\n",
      "Requirement already satisfied: pyproject_hooks in c:\\users\\asus\\desktop\\gen-ai_from_scratch\\langchain\\venv\\lib\\site-packages (from build>=1.0.3->chromadb>=1.0.9->langchain-chroma) (1.2.0)\n",
      "Requirement already satisfied: colorama in c:\\users\\asus\\desktop\\gen-ai_from_scratch\\langchain\\venv\\lib\\site-packages (from build>=1.0.3->chromadb>=1.0.9->langchain-chroma) (0.4.6)\n",
      "Requirement already satisfied: importlib-metadata>=4.6 in c:\\users\\asus\\desktop\\gen-ai_from_scratch\\langchain\\venv\\lib\\site-packages (from build>=1.0.3->chromadb>=1.0.9->langchain-chroma) (8.7.0)\n",
      "Requirement already satisfied: tomli>=1.1.0 in c:\\users\\asus\\desktop\\gen-ai_from_scratch\\langchain\\venv\\lib\\site-packages (from build>=1.0.3->chromadb>=1.0.9->langchain-chroma) (2.2.1)\n",
      "Requirement already satisfied: anyio in c:\\users\\asus\\desktop\\gen-ai_from_scratch\\langchain\\venv\\lib\\site-packages (from httpx>=0.27.0->chromadb>=1.0.9->langchain-chroma) (4.9.0)\n",
      "Requirement already satisfied: httpcore==1.* in c:\\users\\asus\\desktop\\gen-ai_from_scratch\\langchain\\venv\\lib\\site-packages (from httpx>=0.27.0->chromadb>=1.0.9->langchain-chroma) (1.0.9)\n",
      "Requirement already satisfied: h11>=0.16 in c:\\users\\asus\\desktop\\gen-ai_from_scratch\\langchain\\venv\\lib\\site-packages (from httpcore==1.*->httpx>=0.27.0->chromadb>=1.0.9->langchain-chroma) (0.16.0)\n",
      "Requirement already satisfied: zipp>=3.20 in c:\\users\\asus\\desktop\\gen-ai_from_scratch\\langchain\\venv\\lib\\site-packages (from importlib-metadata>=4.6->build>=1.0.3->chromadb>=1.0.9->langchain-chroma) (3.23.0)\n",
      "Requirement already satisfied: attrs>=22.2.0 in c:\\users\\asus\\desktop\\gen-ai_from_scratch\\langchain\\venv\\lib\\site-packages (from jsonschema>=4.19.0->chromadb>=1.0.9->langchain-chroma) (25.3.0)\n",
      "Requirement already satisfied: jsonschema-specifications>=2023.03.6 in c:\\users\\asus\\desktop\\gen-ai_from_scratch\\langchain\\venv\\lib\\site-packages (from jsonschema>=4.19.0->chromadb>=1.0.9->langchain-chroma) (2025.4.1)\n",
      "Requirement already satisfied: referencing>=0.28.4 in c:\\users\\asus\\desktop\\gen-ai_from_scratch\\langchain\\venv\\lib\\site-packages (from jsonschema>=4.19.0->chromadb>=1.0.9->langchain-chroma) (0.36.2)\n",
      "Requirement already satisfied: rpds-py>=0.7.1 in c:\\users\\asus\\desktop\\gen-ai_from_scratch\\langchain\\venv\\lib\\site-packages (from jsonschema>=4.19.0->chromadb>=1.0.9->langchain-chroma) (0.26.0)\n",
      "Requirement already satisfied: google-auth>=1.0.1 in c:\\users\\asus\\desktop\\gen-ai_from_scratch\\langchain\\venv\\lib\\site-packages (from kubernetes>=28.1.0->chromadb>=1.0.9->langchain-chroma) (2.40.3)\n",
      "Requirement already satisfied: websocket-client!=0.40.0,!=0.41.*,!=0.42.*,>=0.32.0 in c:\\users\\asus\\desktop\\gen-ai_from_scratch\\langchain\\venv\\lib\\site-packages (from kubernetes>=28.1.0->chromadb>=1.0.9->langchain-chroma) (1.8.0)\n",
      "Requirement already satisfied: requests-oauthlib in c:\\users\\asus\\desktop\\gen-ai_from_scratch\\langchain\\venv\\lib\\site-packages (from kubernetes>=28.1.0->chromadb>=1.0.9->langchain-chroma) (2.0.0)\n",
      "Requirement already satisfied: oauthlib>=3.2.2 in c:\\users\\asus\\desktop\\gen-ai_from_scratch\\langchain\\venv\\lib\\site-packages (from kubernetes>=28.1.0->chromadb>=1.0.9->langchain-chroma) (3.3.1)\n",
      "Requirement already satisfied: durationpy>=0.7 in c:\\users\\asus\\desktop\\gen-ai_from_scratch\\langchain\\venv\\lib\\site-packages (from kubernetes>=28.1.0->chromadb>=1.0.9->langchain-chroma) (0.10)\n",
      "Requirement already satisfied: cachetools<6.0,>=2.0.0 in c:\\users\\asus\\desktop\\gen-ai_from_scratch\\langchain\\venv\\lib\\site-packages (from google-auth>=1.0.1->kubernetes>=28.1.0->chromadb>=1.0.9->langchain-chroma) (5.5.2)\n",
      "Requirement already satisfied: pyasn1-modules>=0.2.1 in c:\\users\\asus\\desktop\\gen-ai_from_scratch\\langchain\\venv\\lib\\site-packages (from google-auth>=1.0.1->kubernetes>=28.1.0->chromadb>=1.0.9->langchain-chroma) (0.4.2)\n",
      "Requirement already satisfied: rsa<5,>=3.1.4 in c:\\users\\asus\\desktop\\gen-ai_from_scratch\\langchain\\venv\\lib\\site-packages (from google-auth>=1.0.1->kubernetes>=28.1.0->chromadb>=1.0.9->langchain-chroma) (4.9.1)\n",
      "Requirement already satisfied: pyasn1>=0.1.3 in c:\\users\\asus\\desktop\\gen-ai_from_scratch\\langchain\\venv\\lib\\site-packages (from rsa<5,>=3.1.4->google-auth>=1.0.1->kubernetes>=28.1.0->chromadb>=1.0.9->langchain-chroma) (0.6.1)\n",
      "Requirement already satisfied: langsmith>=0.3.45 in c:\\users\\asus\\desktop\\gen-ai_from_scratch\\langchain\\venv\\lib\\site-packages (from langchain-core>=0.3.60->langchain-chroma) (0.4.4)\n",
      "Requirement already satisfied: jsonpatch<2.0,>=1.33 in c:\\users\\asus\\desktop\\gen-ai_from_scratch\\langchain\\venv\\lib\\site-packages (from langchain-core>=0.3.60->langchain-chroma) (1.33)\n",
      "Requirement already satisfied: jsonpointer>=1.9 in c:\\users\\asus\\desktop\\gen-ai_from_scratch\\langchain\\venv\\lib\\site-packages (from jsonpatch<2.0,>=1.33->langchain-core>=0.3.60->langchain-chroma) (3.0.0)\n",
      "Requirement already satisfied: requests-toolbelt<2.0.0,>=1.0.0 in c:\\users\\asus\\desktop\\gen-ai_from_scratch\\langchain\\venv\\lib\\site-packages (from langsmith>=0.3.45->langchain-core>=0.3.60->langchain-chroma) (1.0.0)\n",
      "Requirement already satisfied: zstandard<0.24.0,>=0.23.0 in c:\\users\\asus\\desktop\\gen-ai_from_scratch\\langchain\\venv\\lib\\site-packages (from langsmith>=0.3.45->langchain-core>=0.3.60->langchain-chroma) (0.23.0)\n",
      "Requirement already satisfied: annotated-types>=0.6.0 in c:\\users\\asus\\desktop\\gen-ai_from_scratch\\langchain\\venv\\lib\\site-packages (from pydantic>=1.9->chromadb>=1.0.9->langchain-chroma) (0.7.0)\n",
      "Requirement already satisfied: pydantic-core==2.33.2 in c:\\users\\asus\\desktop\\gen-ai_from_scratch\\langchain\\venv\\lib\\site-packages (from pydantic>=1.9->chromadb>=1.0.9->langchain-chroma) (2.33.2)\n",
      "Requirement already satisfied: typing-inspection>=0.4.0 in c:\\users\\asus\\desktop\\gen-ai_from_scratch\\langchain\\venv\\lib\\site-packages (from pydantic>=1.9->chromadb>=1.0.9->langchain-chroma) (0.4.1)\n",
      "Requirement already satisfied: coloredlogs in c:\\users\\asus\\desktop\\gen-ai_from_scratch\\langchain\\venv\\lib\\site-packages (from onnxruntime>=1.14.1->chromadb>=1.0.9->langchain-chroma) (15.0.1)\n",
      "Requirement already satisfied: flatbuffers in c:\\users\\asus\\desktop\\gen-ai_from_scratch\\langchain\\venv\\lib\\site-packages (from onnxruntime>=1.14.1->chromadb>=1.0.9->langchain-chroma) (25.2.10)\n",
      "Requirement already satisfied: protobuf in c:\\users\\asus\\desktop\\gen-ai_from_scratch\\langchain\\venv\\lib\\site-packages (from onnxruntime>=1.14.1->chromadb>=1.0.9->langchain-chroma) (5.29.5)\n",
      "Requirement already satisfied: sympy in c:\\users\\asus\\desktop\\gen-ai_from_scratch\\langchain\\venv\\lib\\site-packages (from onnxruntime>=1.14.1->chromadb>=1.0.9->langchain-chroma) (1.14.0)\n",
      "Requirement already satisfied: googleapis-common-protos~=1.52 in c:\\users\\asus\\desktop\\gen-ai_from_scratch\\langchain\\venv\\lib\\site-packages (from opentelemetry-exporter-otlp-proto-grpc>=1.2.0->chromadb>=1.0.9->langchain-chroma) (1.70.0)\n",
      "Requirement already satisfied: opentelemetry-exporter-otlp-proto-common==1.34.1 in c:\\users\\asus\\desktop\\gen-ai_from_scratch\\langchain\\venv\\lib\\site-packages (from opentelemetry-exporter-otlp-proto-grpc>=1.2.0->chromadb>=1.0.9->langchain-chroma) (1.34.1)\n",
      "Requirement already satisfied: opentelemetry-proto==1.34.1 in c:\\users\\asus\\desktop\\gen-ai_from_scratch\\langchain\\venv\\lib\\site-packages (from opentelemetry-exporter-otlp-proto-grpc>=1.2.0->chromadb>=1.0.9->langchain-chroma) (1.34.1)\n",
      "Requirement already satisfied: opentelemetry-semantic-conventions==0.55b1 in c:\\users\\asus\\desktop\\gen-ai_from_scratch\\langchain\\venv\\lib\\site-packages (from opentelemetry-sdk>=1.2.0->chromadb>=1.0.9->langchain-chroma) (0.55b1)\n",
      "Requirement already satisfied: markdown-it-py>=2.2.0 in c:\\users\\asus\\desktop\\gen-ai_from_scratch\\langchain\\venv\\lib\\site-packages (from rich>=10.11.0->chromadb>=1.0.9->langchain-chroma) (3.0.0)\n",
      "Requirement already satisfied: pygments<3.0.0,>=2.13.0 in c:\\users\\asus\\desktop\\gen-ai_from_scratch\\langchain\\venv\\lib\\site-packages (from rich>=10.11.0->chromadb>=1.0.9->langchain-chroma) (2.19.2)\n",
      "Requirement already satisfied: mdurl~=0.1 in c:\\users\\asus\\desktop\\gen-ai_from_scratch\\langchain\\venv\\lib\\site-packages (from markdown-it-py>=2.2.0->rich>=10.11.0->chromadb>=1.0.9->langchain-chroma) (0.1.2)\n",
      "Requirement already satisfied: huggingface-hub<1.0,>=0.16.4 in c:\\users\\asus\\desktop\\gen-ai_from_scratch\\langchain\\venv\\lib\\site-packages (from tokenizers>=0.13.2->chromadb>=1.0.9->langchain-chroma) (0.33.2)\n",
      "Requirement already satisfied: filelock in c:\\users\\asus\\desktop\\gen-ai_from_scratch\\langchain\\venv\\lib\\site-packages (from huggingface-hub<1.0,>=0.16.4->tokenizers>=0.13.2->chromadb>=1.0.9->langchain-chroma) (3.18.0)\n",
      "Requirement already satisfied: fsspec>=2023.5.0 in c:\\users\\asus\\desktop\\gen-ai_from_scratch\\langchain\\venv\\lib\\site-packages (from huggingface-hub<1.0,>=0.16.4->tokenizers>=0.13.2->chromadb>=1.0.9->langchain-chroma) (2025.5.1)\n",
      "Requirement already satisfied: click>=8.0.0 in c:\\users\\asus\\desktop\\gen-ai_from_scratch\\langchain\\venv\\lib\\site-packages (from typer>=0.9.0->chromadb>=1.0.9->langchain-chroma) (8.2.1)\n",
      "Requirement already satisfied: shellingham>=1.3.0 in c:\\users\\asus\\desktop\\gen-ai_from_scratch\\langchain\\venv\\lib\\site-packages (from typer>=0.9.0->chromadb>=1.0.9->langchain-chroma) (1.5.4)\n",
      "Requirement already satisfied: httptools>=0.6.3 in c:\\users\\asus\\desktop\\gen-ai_from_scratch\\langchain\\venv\\lib\\site-packages (from uvicorn[standard]>=0.18.3->chromadb>=1.0.9->langchain-chroma) (0.6.4)\n",
      "Requirement already satisfied: python-dotenv>=0.13 in c:\\users\\asus\\desktop\\gen-ai_from_scratch\\langchain\\venv\\lib\\site-packages (from uvicorn[standard]>=0.18.3->chromadb>=1.0.9->langchain-chroma) (1.1.1)\n",
      "Requirement already satisfied: watchfiles>=0.13 in c:\\users\\asus\\desktop\\gen-ai_from_scratch\\langchain\\venv\\lib\\site-packages (from uvicorn[standard]>=0.18.3->chromadb>=1.0.9->langchain-chroma) (1.1.0)\n",
      "Requirement already satisfied: websockets>=10.4 in c:\\users\\asus\\desktop\\gen-ai_from_scratch\\langchain\\venv\\lib\\site-packages (from uvicorn[standard]>=0.18.3->chromadb>=1.0.9->langchain-chroma) (15.0.1)\n",
      "Requirement already satisfied: exceptiongroup>=1.0.2 in c:\\users\\asus\\desktop\\gen-ai_from_scratch\\langchain\\venv\\lib\\site-packages (from anyio->httpx>=0.27.0->chromadb>=1.0.9->langchain-chroma) (1.3.0)\n",
      "Requirement already satisfied: sniffio>=1.1 in c:\\users\\asus\\desktop\\gen-ai_from_scratch\\langchain\\venv\\lib\\site-packages (from anyio->httpx>=0.27.0->chromadb>=1.0.9->langchain-chroma) (1.3.1)\n",
      "Requirement already satisfied: humanfriendly>=9.1 in c:\\users\\asus\\desktop\\gen-ai_from_scratch\\langchain\\venv\\lib\\site-packages (from coloredlogs->onnxruntime>=1.14.1->chromadb>=1.0.9->langchain-chroma) (10.0)\n",
      "Requirement already satisfied: pyreadline3 in c:\\users\\asus\\desktop\\gen-ai_from_scratch\\langchain\\venv\\lib\\site-packages (from humanfriendly>=9.1->coloredlogs->onnxruntime>=1.14.1->chromadb>=1.0.9->langchain-chroma) (3.5.4)\n",
      "Requirement already satisfied: mpmath<1.4,>=1.1.0 in c:\\users\\asus\\desktop\\gen-ai_from_scratch\\langchain\\venv\\lib\\site-packages (from sympy->onnxruntime>=1.14.1->chromadb>=1.0.9->langchain-chroma) (1.3.0)\n",
      "Requirement already satisfied: langchain_groq in c:\\users\\asus\\desktop\\gen-ai_from_scratch\\langchain\\venv\\lib\\site-packages (0.3.5)\n",
      "Requirement already satisfied: langchain-core<1.0.0,>=0.3.67 in c:\\users\\asus\\desktop\\gen-ai_from_scratch\\langchain\\venv\\lib\\site-packages (from langchain_groq) (0.3.68)\n",
      "Requirement already satisfied: groq<1,>=0.29.0 in c:\\users\\asus\\desktop\\gen-ai_from_scratch\\langchain\\venv\\lib\\site-packages (from langchain_groq) (0.29.0)\n",
      "Requirement already satisfied: anyio<5,>=3.5.0 in c:\\users\\asus\\desktop\\gen-ai_from_scratch\\langchain\\venv\\lib\\site-packages (from groq<1,>=0.29.0->langchain_groq) (4.9.0)\n",
      "Requirement already satisfied: distro<2,>=1.7.0 in c:\\users\\asus\\desktop\\gen-ai_from_scratch\\langchain\\venv\\lib\\site-packages (from groq<1,>=0.29.0->langchain_groq) (1.9.0)\n",
      "Requirement already satisfied: httpx<1,>=0.23.0 in c:\\users\\asus\\desktop\\gen-ai_from_scratch\\langchain\\venv\\lib\\site-packages (from groq<1,>=0.29.0->langchain_groq) (0.28.1)\n",
      "Requirement already satisfied: pydantic<3,>=1.9.0 in c:\\users\\asus\\desktop\\gen-ai_from_scratch\\langchain\\venv\\lib\\site-packages (from groq<1,>=0.29.0->langchain_groq) (2.11.7)\n",
      "Requirement already satisfied: sniffio in c:\\users\\asus\\desktop\\gen-ai_from_scratch\\langchain\\venv\\lib\\site-packages (from groq<1,>=0.29.0->langchain_groq) (1.3.1)\n",
      "Requirement already satisfied: typing-extensions<5,>=4.10 in c:\\users\\asus\\desktop\\gen-ai_from_scratch\\langchain\\venv\\lib\\site-packages (from groq<1,>=0.29.0->langchain_groq) (4.14.1)\n",
      "Requirement already satisfied: exceptiongroup>=1.0.2 in c:\\users\\asus\\desktop\\gen-ai_from_scratch\\langchain\\venv\\lib\\site-packages (from anyio<5,>=3.5.0->groq<1,>=0.29.0->langchain_groq) (1.3.0)\n",
      "Requirement already satisfied: idna>=2.8 in c:\\users\\asus\\desktop\\gen-ai_from_scratch\\langchain\\venv\\lib\\site-packages (from anyio<5,>=3.5.0->groq<1,>=0.29.0->langchain_groq) (3.10)\n",
      "Requirement already satisfied: certifi in c:\\users\\asus\\desktop\\gen-ai_from_scratch\\langchain\\venv\\lib\\site-packages (from httpx<1,>=0.23.0->groq<1,>=0.29.0->langchain_groq) (2025.6.15)\n",
      "Requirement already satisfied: httpcore==1.* in c:\\users\\asus\\desktop\\gen-ai_from_scratch\\langchain\\venv\\lib\\site-packages (from httpx<1,>=0.23.0->groq<1,>=0.29.0->langchain_groq) (1.0.9)\n",
      "Requirement already satisfied: h11>=0.16 in c:\\users\\asus\\desktop\\gen-ai_from_scratch\\langchain\\venv\\lib\\site-packages (from httpcore==1.*->httpx<1,>=0.23.0->groq<1,>=0.29.0->langchain_groq) (0.16.0)\n",
      "Requirement already satisfied: langsmith>=0.3.45 in c:\\users\\asus\\desktop\\gen-ai_from_scratch\\langchain\\venv\\lib\\site-packages (from langchain-core<1.0.0,>=0.3.67->langchain_groq) (0.4.4)\n",
      "Requirement already satisfied: tenacity!=8.4.0,<10.0.0,>=8.1.0 in c:\\users\\asus\\desktop\\gen-ai_from_scratch\\langchain\\venv\\lib\\site-packages (from langchain-core<1.0.0,>=0.3.67->langchain_groq) (9.1.2)\n",
      "Requirement already satisfied: jsonpatch<2.0,>=1.33 in c:\\users\\asus\\desktop\\gen-ai_from_scratch\\langchain\\venv\\lib\\site-packages (from langchain-core<1.0.0,>=0.3.67->langchain_groq) (1.33)\n",
      "Requirement already satisfied: PyYAML>=5.3 in c:\\users\\asus\\desktop\\gen-ai_from_scratch\\langchain\\venv\\lib\\site-packages (from langchain-core<1.0.0,>=0.3.67->langchain_groq) (6.0.2)\n",
      "Requirement already satisfied: packaging<25,>=23.2 in c:\\users\\asus\\desktop\\gen-ai_from_scratch\\langchain\\venv\\lib\\site-packages (from langchain-core<1.0.0,>=0.3.67->langchain_groq) (24.2)\n",
      "Requirement already satisfied: jsonpointer>=1.9 in c:\\users\\asus\\desktop\\gen-ai_from_scratch\\langchain\\venv\\lib\\site-packages (from jsonpatch<2.0,>=1.33->langchain-core<1.0.0,>=0.3.67->langchain_groq) (3.0.0)\n",
      "Requirement already satisfied: annotated-types>=0.6.0 in c:\\users\\asus\\desktop\\gen-ai_from_scratch\\langchain\\venv\\lib\\site-packages (from pydantic<3,>=1.9.0->groq<1,>=0.29.0->langchain_groq) (0.7.0)\n",
      "Requirement already satisfied: pydantic-core==2.33.2 in c:\\users\\asus\\desktop\\gen-ai_from_scratch\\langchain\\venv\\lib\\site-packages (from pydantic<3,>=1.9.0->groq<1,>=0.29.0->langchain_groq) (2.33.2)\n",
      "Requirement already satisfied: typing-inspection>=0.4.0 in c:\\users\\asus\\desktop\\gen-ai_from_scratch\\langchain\\venv\\lib\\site-packages (from pydantic<3,>=1.9.0->groq<1,>=0.29.0->langchain_groq) (0.4.1)\n",
      "Requirement already satisfied: orjson<4.0.0,>=3.9.14 in c:\\users\\asus\\desktop\\gen-ai_from_scratch\\langchain\\venv\\lib\\site-packages (from langsmith>=0.3.45->langchain-core<1.0.0,>=0.3.67->langchain_groq) (3.10.18)\n",
      "Requirement already satisfied: requests<3,>=2 in c:\\users\\asus\\desktop\\gen-ai_from_scratch\\langchain\\venv\\lib\\site-packages (from langsmith>=0.3.45->langchain-core<1.0.0,>=0.3.67->langchain_groq) (2.32.4)\n",
      "Requirement already satisfied: requests-toolbelt<2.0.0,>=1.0.0 in c:\\users\\asus\\desktop\\gen-ai_from_scratch\\langchain\\venv\\lib\\site-packages (from langsmith>=0.3.45->langchain-core<1.0.0,>=0.3.67->langchain_groq) (1.0.0)\n",
      "Requirement already satisfied: zstandard<0.24.0,>=0.23.0 in c:\\users\\asus\\desktop\\gen-ai_from_scratch\\langchain\\venv\\lib\\site-packages (from langsmith>=0.3.45->langchain-core<1.0.0,>=0.3.67->langchain_groq) (0.23.0)\n",
      "Requirement already satisfied: charset_normalizer<4,>=2 in c:\\users\\asus\\desktop\\gen-ai_from_scratch\\langchain\\venv\\lib\\site-packages (from requests<3,>=2->langsmith>=0.3.45->langchain-core<1.0.0,>=0.3.67->langchain_groq) (3.4.2)\n",
      "Requirement already satisfied: urllib3<3,>=1.21.1 in c:\\users\\asus\\desktop\\gen-ai_from_scratch\\langchain\\venv\\lib\\site-packages (from requests<3,>=2->langsmith>=0.3.45->langchain-core<1.0.0,>=0.3.67->langchain_groq) (2.5.0)\n"
     ]
    }
   ],
   "source": [
    "!pip install langchain\n",
    "!pip install langchain-chroma\n",
    "!pip install langchain_groq"
   ]
  },
  {
   "cell_type": "markdown",
   "metadata": {},
   "source": [
    "### Documents\n",
    "LangChain implements a Document abstraction, which is intended to represent a unit of text and associated metadata. It has two attributes:\n",
    "\n",
    "- page_content: a string representing the content;\n",
    "- metadata: a dict containing arbitrary metadata.\n",
    "The metadata attribute can capture information about the source of the document, its relationship to other documents, and other information. Note that an individual Document object often represents a chunk of a larger document.\n",
    "\n",
    "Let's generate some sample documents:"
   ]
  },
  {
   "cell_type": "code",
   "execution_count": 2,
   "metadata": {},
   "outputs": [],
   "source": [
    "from langchain_core.documents import Document\n",
    "\n",
    "documents = [\n",
    "    Document(\n",
    "        page_content=\"Dogs are great companions, known for their loyalty and friendliness.\",\n",
    "        metadata={\"source\": \"mammal-pets-doc\"},\n",
    "    ),\n",
    "    Document(\n",
    "        page_content=\"Cats are independent pets that often enjoy their own space.\",\n",
    "        metadata={\"source\": \"mammal-pets-doc\"},\n",
    "    ),\n",
    "    Document(\n",
    "        page_content=\"Goldfish are popular pets for beginners, requiring relatively simple care.\",\n",
    "        metadata={\"source\": \"fish-pets-doc\"},\n",
    "    ),\n",
    "    Document(\n",
    "        page_content=\"Parrots are intelligent birds capable of mimicking human speech.\",\n",
    "        metadata={\"source\": \"bird-pets-doc\"},\n",
    "    ),\n",
    "    Document(\n",
    "        page_content=\"Rabbits are social animals that need plenty of space to hop around.\",\n",
    "        metadata={\"source\": \"mammal-pets-doc\"},\n",
    "    ),\n",
    "]"
   ]
  },
  {
   "cell_type": "code",
   "execution_count": 3,
   "metadata": {},
   "outputs": [
    {
     "data": {
      "text/plain": [
       "[Document(metadata={'source': 'mammal-pets-doc'}, page_content='Dogs are great companions, known for their loyalty and friendliness.'),\n",
       " Document(metadata={'source': 'mammal-pets-doc'}, page_content='Cats are independent pets that often enjoy their own space.'),\n",
       " Document(metadata={'source': 'fish-pets-doc'}, page_content='Goldfish are popular pets for beginners, requiring relatively simple care.'),\n",
       " Document(metadata={'source': 'bird-pets-doc'}, page_content='Parrots are intelligent birds capable of mimicking human speech.'),\n",
       " Document(metadata={'source': 'mammal-pets-doc'}, page_content='Rabbits are social animals that need plenty of space to hop around.')]"
      ]
     },
     "execution_count": 3,
     "metadata": {},
     "output_type": "execute_result"
    }
   ],
   "source": [
    "documents"
   ]
  },
  {
   "cell_type": "code",
   "execution_count": 4,
   "metadata": {},
   "outputs": [
    {
     "data": {
      "text/plain": [
       "ChatGroq(client=<groq.resources.chat.completions.Completions object at 0x0000018996543610>, async_client=<groq.resources.chat.completions.AsyncCompletions object at 0x000001899656DA80>, model_name='Llama3-8b-8192', model_kwargs={}, groq_api_key=SecretStr('**********'))"
      ]
     },
     "execution_count": 4,
     "metadata": {},
     "output_type": "execute_result"
    }
   ],
   "source": [
    "import os\n",
    "from dotenv import load_dotenv\n",
    "load_dotenv()\n",
    "from langchain_groq import ChatGroq\n",
    "groq_api_key=os.getenv(\"GROQ_API_KEY\")\n",
    "\n",
    "os.environ[\"HF_TOKEN\"]=os.getenv(\"HF_TOKEN\")\n",
    "\n",
    "llm=ChatGroq(groq_api_key=groq_api_key,model=\"Llama3-8b-8192\")\n",
    "llm"
   ]
  },
  {
   "cell_type": "code",
   "execution_count": 5,
   "metadata": {},
   "outputs": [
    {
     "name": "stdout",
     "output_type": "stream",
     "text": [
      "Requirement already satisfied: langchain_huggingface in c:\\users\\asus\\desktop\\gen-ai_from_scratch\\langchain\\venv\\lib\\site-packages (0.3.0)\n",
      "Requirement already satisfied: langchain-core<1.0.0,>=0.3.65 in c:\\users\\asus\\desktop\\gen-ai_from_scratch\\langchain\\venv\\lib\\site-packages (from langchain_huggingface) (0.3.68)\n",
      "Requirement already satisfied: tokenizers>=0.19.1 in c:\\users\\asus\\desktop\\gen-ai_from_scratch\\langchain\\venv\\lib\\site-packages (from langchain_huggingface) (0.21.2)\n",
      "Requirement already satisfied: huggingface-hub>=0.30.2 in c:\\users\\asus\\desktop\\gen-ai_from_scratch\\langchain\\venv\\lib\\site-packages (from langchain_huggingface) (0.33.2)\n",
      "Requirement already satisfied: langsmith>=0.3.45 in c:\\users\\asus\\desktop\\gen-ai_from_scratch\\langchain\\venv\\lib\\site-packages (from langchain-core<1.0.0,>=0.3.65->langchain_huggingface) (0.4.4)\n",
      "Requirement already satisfied: tenacity!=8.4.0,<10.0.0,>=8.1.0 in c:\\users\\asus\\desktop\\gen-ai_from_scratch\\langchain\\venv\\lib\\site-packages (from langchain-core<1.0.0,>=0.3.65->langchain_huggingface) (9.1.2)\n",
      "Requirement already satisfied: jsonpatch<2.0,>=1.33 in c:\\users\\asus\\desktop\\gen-ai_from_scratch\\langchain\\venv\\lib\\site-packages (from langchain-core<1.0.0,>=0.3.65->langchain_huggingface) (1.33)\n",
      "Requirement already satisfied: PyYAML>=5.3 in c:\\users\\asus\\desktop\\gen-ai_from_scratch\\langchain\\venv\\lib\\site-packages (from langchain-core<1.0.0,>=0.3.65->langchain_huggingface) (6.0.2)\n",
      "Requirement already satisfied: packaging<25,>=23.2 in c:\\users\\asus\\desktop\\gen-ai_from_scratch\\langchain\\venv\\lib\\site-packages (from langchain-core<1.0.0,>=0.3.65->langchain_huggingface) (24.2)\n",
      "Requirement already satisfied: typing-extensions>=4.7 in c:\\users\\asus\\desktop\\gen-ai_from_scratch\\langchain\\venv\\lib\\site-packages (from langchain-core<1.0.0,>=0.3.65->langchain_huggingface) (4.14.1)\n",
      "Requirement already satisfied: pydantic>=2.7.4 in c:\\users\\asus\\desktop\\gen-ai_from_scratch\\langchain\\venv\\lib\\site-packages (from langchain-core<1.0.0,>=0.3.65->langchain_huggingface) (2.11.7)\n",
      "Requirement already satisfied: jsonpointer>=1.9 in c:\\users\\asus\\desktop\\gen-ai_from_scratch\\langchain\\venv\\lib\\site-packages (from jsonpatch<2.0,>=1.33->langchain-core<1.0.0,>=0.3.65->langchain_huggingface) (3.0.0)\n",
      "Requirement already satisfied: filelock in c:\\users\\asus\\desktop\\gen-ai_from_scratch\\langchain\\venv\\lib\\site-packages (from huggingface-hub>=0.30.2->langchain_huggingface) (3.18.0)\n",
      "Requirement already satisfied: fsspec>=2023.5.0 in c:\\users\\asus\\desktop\\gen-ai_from_scratch\\langchain\\venv\\lib\\site-packages (from huggingface-hub>=0.30.2->langchain_huggingface) (2025.5.1)\n",
      "Requirement already satisfied: requests in c:\\users\\asus\\desktop\\gen-ai_from_scratch\\langchain\\venv\\lib\\site-packages (from huggingface-hub>=0.30.2->langchain_huggingface) (2.32.4)\n",
      "Requirement already satisfied: tqdm>=4.42.1 in c:\\users\\asus\\desktop\\gen-ai_from_scratch\\langchain\\venv\\lib\\site-packages (from huggingface-hub>=0.30.2->langchain_huggingface) (4.67.1)\n",
      "Requirement already satisfied: httpx<1,>=0.23.0 in c:\\users\\asus\\desktop\\gen-ai_from_scratch\\langchain\\venv\\lib\\site-packages (from langsmith>=0.3.45->langchain-core<1.0.0,>=0.3.65->langchain_huggingface) (0.28.1)\n",
      "Requirement already satisfied: orjson<4.0.0,>=3.9.14 in c:\\users\\asus\\desktop\\gen-ai_from_scratch\\langchain\\venv\\lib\\site-packages (from langsmith>=0.3.45->langchain-core<1.0.0,>=0.3.65->langchain_huggingface) (3.10.18)\n",
      "Requirement already satisfied: requests-toolbelt<2.0.0,>=1.0.0 in c:\\users\\asus\\desktop\\gen-ai_from_scratch\\langchain\\venv\\lib\\site-packages (from langsmith>=0.3.45->langchain-core<1.0.0,>=0.3.65->langchain_huggingface) (1.0.0)\n",
      "Requirement already satisfied: zstandard<0.24.0,>=0.23.0 in c:\\users\\asus\\desktop\\gen-ai_from_scratch\\langchain\\venv\\lib\\site-packages (from langsmith>=0.3.45->langchain-core<1.0.0,>=0.3.65->langchain_huggingface) (0.23.0)\n",
      "Requirement already satisfied: anyio in c:\\users\\asus\\desktop\\gen-ai_from_scratch\\langchain\\venv\\lib\\site-packages (from httpx<1,>=0.23.0->langsmith>=0.3.45->langchain-core<1.0.0,>=0.3.65->langchain_huggingface) (4.9.0)\n",
      "Requirement already satisfied: certifi in c:\\users\\asus\\desktop\\gen-ai_from_scratch\\langchain\\venv\\lib\\site-packages (from httpx<1,>=0.23.0->langsmith>=0.3.45->langchain-core<1.0.0,>=0.3.65->langchain_huggingface) (2025.6.15)\n",
      "Requirement already satisfied: httpcore==1.* in c:\\users\\asus\\desktop\\gen-ai_from_scratch\\langchain\\venv\\lib\\site-packages (from httpx<1,>=0.23.0->langsmith>=0.3.45->langchain-core<1.0.0,>=0.3.65->langchain_huggingface) (1.0.9)\n",
      "Requirement already satisfied: idna in c:\\users\\asus\\desktop\\gen-ai_from_scratch\\langchain\\venv\\lib\\site-packages (from httpx<1,>=0.23.0->langsmith>=0.3.45->langchain-core<1.0.0,>=0.3.65->langchain_huggingface) (3.10)\n",
      "Requirement already satisfied: h11>=0.16 in c:\\users\\asus\\desktop\\gen-ai_from_scratch\\langchain\\venv\\lib\\site-packages (from httpcore==1.*->httpx<1,>=0.23.0->langsmith>=0.3.45->langchain-core<1.0.0,>=0.3.65->langchain_huggingface) (0.16.0)\n",
      "Requirement already satisfied: annotated-types>=0.6.0 in c:\\users\\asus\\desktop\\gen-ai_from_scratch\\langchain\\venv\\lib\\site-packages (from pydantic>=2.7.4->langchain-core<1.0.0,>=0.3.65->langchain_huggingface) (0.7.0)\n",
      "Requirement already satisfied: pydantic-core==2.33.2 in c:\\users\\asus\\desktop\\gen-ai_from_scratch\\langchain\\venv\\lib\\site-packages (from pydantic>=2.7.4->langchain-core<1.0.0,>=0.3.65->langchain_huggingface) (2.33.2)\n",
      "Requirement already satisfied: typing-inspection>=0.4.0 in c:\\users\\asus\\desktop\\gen-ai_from_scratch\\langchain\\venv\\lib\\site-packages (from pydantic>=2.7.4->langchain-core<1.0.0,>=0.3.65->langchain_huggingface) (0.4.1)\n",
      "Requirement already satisfied: charset_normalizer<4,>=2 in c:\\users\\asus\\desktop\\gen-ai_from_scratch\\langchain\\venv\\lib\\site-packages (from requests->huggingface-hub>=0.30.2->langchain_huggingface) (3.4.2)\n",
      "Requirement already satisfied: urllib3<3,>=1.21.1 in c:\\users\\asus\\desktop\\gen-ai_from_scratch\\langchain\\venv\\lib\\site-packages (from requests->huggingface-hub>=0.30.2->langchain_huggingface) (2.5.0)\n",
      "Requirement already satisfied: colorama in c:\\users\\asus\\desktop\\gen-ai_from_scratch\\langchain\\venv\\lib\\site-packages (from tqdm>=4.42.1->huggingface-hub>=0.30.2->langchain_huggingface) (0.4.6)\n",
      "Requirement already satisfied: exceptiongroup>=1.0.2 in c:\\users\\asus\\desktop\\gen-ai_from_scratch\\langchain\\venv\\lib\\site-packages (from anyio->httpx<1,>=0.23.0->langsmith>=0.3.45->langchain-core<1.0.0,>=0.3.65->langchain_huggingface) (1.3.0)\n",
      "Requirement already satisfied: sniffio>=1.1 in c:\\users\\asus\\desktop\\gen-ai_from_scratch\\langchain\\venv\\lib\\site-packages (from anyio->httpx<1,>=0.23.0->langsmith>=0.3.45->langchain-core<1.0.0,>=0.3.65->langchain_huggingface) (1.3.1)\n"
     ]
    }
   ],
   "source": [
    "!pip install langchain_huggingface"
   ]
  },
  {
   "cell_type": "code",
   "execution_count": 6,
   "metadata": {},
   "outputs": [
    {
     "name": "stderr",
     "output_type": "stream",
     "text": [
      "c:\\Users\\ASUS\\Desktop\\Gen-Ai_from_Scratch\\Langchain\\venv\\lib\\site-packages\\tqdm\\auto.py:21: TqdmWarning: IProgress not found. Please update jupyter and ipywidgets. See https://ipywidgets.readthedocs.io/en/stable/user_install.html\n",
      "  from .autonotebook import tqdm as notebook_tqdm\n"
     ]
    }
   ],
   "source": [
    "from langchain_huggingface import HuggingFaceEmbeddings\n",
    "embeddings=HuggingFaceEmbeddings(model_name=\"all-MiniLM-L6-v2\")"
   ]
  },
  {
   "cell_type": "code",
   "execution_count": 7,
   "metadata": {},
   "outputs": [
    {
     "data": {
      "text/plain": [
       "<langchain_chroma.vectorstores.Chroma at 0x189e40722f0>"
      ]
     },
     "execution_count": 7,
     "metadata": {},
     "output_type": "execute_result"
    }
   ],
   "source": [
    "## VectorStores\n",
    "from langchain_chroma import Chroma\n",
    "\n",
    "vectorstore=Chroma.from_documents(documents,embedding=embeddings)\n",
    "vectorstore\n"
   ]
  },
  {
   "cell_type": "code",
   "execution_count": null,
   "metadata": {},
   "outputs": [
    {
     "data": {
      "text/plain": [
       "[Document(id='f35d6f42-95c8-4af4-b3bf-e00c35243fb7', metadata={'source': 'mammal-pets-doc'}, page_content='Cats are independent pets that often enjoy their own space.'),\n",
       " Document(id='d7b9282a-82f8-4859-9057-002a4e7b0776', metadata={'source': 'mammal-pets-doc'}, page_content='Dogs are great companions, known for their loyalty and friendliness.'),\n",
       " Document(id='b3d6987c-7ee4-4415-bb89-006914bb2ae8', metadata={'source': 'mammal-pets-doc'}, page_content='Rabbits are social animals that need plenty of space to hop around.'),\n",
       " Document(id='03d6d2a7-76bf-487d-ad28-7fa07d6f5a44', metadata={'source': 'bird-pets-doc'}, page_content='Parrots are intelligent birds capable of mimicking human speech.')]"
      ]
     },
     "execution_count": 8,
     "metadata": {},
     "output_type": "execute_result"
    }
   ],
   "source": [
    "vectorstore.similarity_search(\"cat\")#here getting page content"
   ]
  },
  {
   "cell_type": "code",
   "execution_count": 9,
   "metadata": {},
   "outputs": [
    {
     "data": {
      "text/plain": [
       "[Document(id='f35d6f42-95c8-4af4-b3bf-e00c35243fb7', metadata={'source': 'mammal-pets-doc'}, page_content='Cats are independent pets that often enjoy their own space.'),\n",
       " Document(id='d7b9282a-82f8-4859-9057-002a4e7b0776', metadata={'source': 'mammal-pets-doc'}, page_content='Dogs are great companions, known for their loyalty and friendliness.'),\n",
       " Document(id='b3d6987c-7ee4-4415-bb89-006914bb2ae8', metadata={'source': 'mammal-pets-doc'}, page_content='Rabbits are social animals that need plenty of space to hop around.'),\n",
       " Document(id='03d6d2a7-76bf-487d-ad28-7fa07d6f5a44', metadata={'source': 'bird-pets-doc'}, page_content='Parrots are intelligent birds capable of mimicking human speech.')]"
      ]
     },
     "execution_count": 9,
     "metadata": {},
     "output_type": "execute_result"
    }
   ],
   "source": [
    "## Async query\n",
    "await vectorstore.asimilarity_search(\"cat\")#"
   ]
  },
  {
   "cell_type": "code",
   "execution_count": 10,
   "metadata": {},
   "outputs": [
    {
     "data": {
      "text/plain": [
       "[(Document(id='f35d6f42-95c8-4af4-b3bf-e00c35243fb7', metadata={'source': 'mammal-pets-doc'}, page_content='Cats are independent pets that often enjoy their own space.'),\n",
       "  0.9351057410240173),\n",
       " (Document(id='d7b9282a-82f8-4859-9057-002a4e7b0776', metadata={'source': 'mammal-pets-doc'}, page_content='Dogs are great companions, known for their loyalty and friendliness.'),\n",
       "  1.5740900039672852),\n",
       " (Document(id='b3d6987c-7ee4-4415-bb89-006914bb2ae8', metadata={'source': 'mammal-pets-doc'}, page_content='Rabbits are social animals that need plenty of space to hop around.'),\n",
       "  1.5956902503967285),\n",
       " (Document(id='03d6d2a7-76bf-487d-ad28-7fa07d6f5a44', metadata={'source': 'bird-pets-doc'}, page_content='Parrots are intelligent birds capable of mimicking human speech.'),\n",
       "  1.6657923460006714)]"
      ]
     },
     "execution_count": 10,
     "metadata": {},
     "output_type": "execute_result"
    }
   ],
   "source": [
    "vectorstore.similarity_search_with_score(\"cat\")"
   ]
  },
  {
   "cell_type": "markdown",
   "metadata": {},
   "source": [
    "### Retrievers\n",
    "LangChain VectorStore objects do not subclass Runnable, and so cannot immediately be integrated into LangChain Expression Language chains.\n",
    "\n",
    "LangChain Retrievers are Runnables, so they implement a standard set of methods (e.g., synchronous and asynchronous invoke and batch operations) and are designed to be incorporated in LCEL chains.\n",
    "\n",
    "We can create a simple version of this ourselves, without subclassing Retriever. If we choose what method we wish to use to retrieve documents, we can create a runnable easily. Below we will build one around the similarity_search method:"
   ]
  },
  {
   "cell_type": "code",
   "execution_count": 11,
   "metadata": {},
   "outputs": [
    {
     "data": {
      "text/plain": [
       "[[Document(id='f35d6f42-95c8-4af4-b3bf-e00c35243fb7', metadata={'source': 'mammal-pets-doc'}, page_content='Cats are independent pets that often enjoy their own space.')],\n",
       " [Document(id='d7b9282a-82f8-4859-9057-002a4e7b0776', metadata={'source': 'mammal-pets-doc'}, page_content='Dogs are great companions, known for their loyalty and friendliness.')]]"
      ]
     },
     "execution_count": 11,
     "metadata": {},
     "output_type": "execute_result"
    }
   ],
   "source": [
    "from typing import List\n",
    "\n",
    "from langchain_core.documents import Document\n",
    "from langchain_core.runnables import RunnableLambda\n",
    "\n",
    "retriever=RunnableLambda(vectorstore.similarity_search).bind(k=1)\n",
    "retriever.batch([\"cat\",\"dog\"])"
   ]
  },
  {
   "cell_type": "markdown",
   "metadata": {},
   "source": [
    "Vectorstores implement an as_retriever method that will generate a Retriever, specifically a VectorStoreRetriever. These retrievers include specific search_type and search_kwargs attributes that identify what methods of the underlying vector store to call, and how to parameterize them. For instance, we can replicate the above with the following:"
   ]
  },
  {
   "cell_type": "code",
   "execution_count": 12,
   "metadata": {},
   "outputs": [
    {
     "data": {
      "text/plain": [
       "[[Document(id='f35d6f42-95c8-4af4-b3bf-e00c35243fb7', metadata={'source': 'mammal-pets-doc'}, page_content='Cats are independent pets that often enjoy their own space.')],\n",
       " [Document(id='d7b9282a-82f8-4859-9057-002a4e7b0776', metadata={'source': 'mammal-pets-doc'}, page_content='Dogs are great companions, known for their loyalty and friendliness.')]]"
      ]
     },
     "execution_count": 12,
     "metadata": {},
     "output_type": "execute_result"
    }
   ],
   "source": [
    "#thi method better than before\n",
    "retriever=vectorstore.as_retriever(\n",
    "    search_type=\"similarity\",\n",
    "    search_kwargs={\"k\":1}\n",
    ")\n",
    "retriever.batch([\"cat\",\"dog\"])\n"
   ]
  },
  {
   "cell_type": "code",
   "execution_count": 13,
   "metadata": {},
   "outputs": [
    {
     "name": "stdout",
     "output_type": "stream",
     "text": [
      "According to the provided context, dogs are great companions, known for their loyalty and friendliness.\n"
     ]
    }
   ],
   "source": [
    "## RAG\n",
    "from langchain_core.prompts import ChatPromptTemplate\n",
    "from langchain_core.runnables import RunnablePassthrough\n",
    "\n",
    "message = \"\"\"\n",
    "Answer this question using the provided context only.\n",
    "\n",
    "{question}\n",
    "\n",
    "Context:\n",
    "{context}\n",
    "\"\"\"\n",
    "prompt = ChatPromptTemplate.from_messages([(\"human\", message)])\n",
    "#RunnablePassthrough means get value in invoke methosd\n",
    "rag_chain={\"context\":retriever,\"question\":RunnablePassthrough()}|prompt|llm\n",
    "\n",
    "response=rag_chain.invoke(\"tell me about dogs\")\n",
    "print(response.content)\n"
   ]
  },
  {
   "cell_type": "code",
   "execution_count": null,
   "metadata": {},
   "outputs": [],
   "source": []
  }
 ],
 "metadata": {
  "kernelspec": {
   "display_name": "Python 3",
   "language": "python",
   "name": "python3"
  },
  "language_info": {
   "codemirror_mode": {
    "name": "ipython",
    "version": 3
   },
   "file_extension": ".py",
   "mimetype": "text/x-python",
   "name": "python",
   "nbconvert_exporter": "python",
   "pygments_lexer": "ipython3",
   "version": "3.10.0"
  }
 },
 "nbformat": 4,
 "nbformat_minor": 2
}
