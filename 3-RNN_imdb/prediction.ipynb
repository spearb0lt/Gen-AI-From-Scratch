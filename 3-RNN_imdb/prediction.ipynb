{
 "cells": [
  {
   "cell_type": "code",
   "execution_count": 1,
   "metadata": {},
   "outputs": [],
   "source": [
    "# Step 1: Import Libraries and Load the Model\n",
    "import numpy as np\n",
    "import tensorflow as tf\n",
    "from tensorflow.keras.datasets import imdb\n",
    "from tensorflow.keras.preprocessing import sequence\n",
    "from tensorflow.keras.models import load_model"
   ]
  },
  {
   "cell_type": "code",
   "execution_count": 2,
   "metadata": {},
   "outputs": [],
   "source": [
    "\n",
    "# Load the IMDB dataset word index\n",
    "word_index = imdb.get_word_index()\n",
    "reverse_word_index = {value: key for key, value in word_index.items()}"
   ]
  },
  {
   "cell_type": "code",
   "execution_count": 3,
   "metadata": {},
   "outputs": [
    {
     "name": "stderr",
     "output_type": "stream",
     "text": [
      "WARNING:absl:Compiled the loaded model, but the compiled metrics have yet to be built. `model.compile_metrics` will be empty until you train or evaluate the model.\n"
     ]
    },
    {
     "data": {
      "text/html": [
       "<pre style=\"white-space:pre;overflow-x:auto;line-height:normal;font-family:Menlo,'DejaVu Sans Mono',consolas,'Courier New',monospace\"><span style=\"font-weight: bold\">Model: \"sequential\"</span>\n",
       "</pre>\n"
      ],
      "text/plain": [
       "\u001b[1mModel: \"sequential\"\u001b[0m\n"
      ]
     },
     "metadata": {},
     "output_type": "display_data"
    },
    {
     "data": {
      "text/html": [
       "<pre style=\"white-space:pre;overflow-x:auto;line-height:normal;font-family:Menlo,'DejaVu Sans Mono',consolas,'Courier New',monospace\">┏━━━━━━━━━━━━━━━━━━━━━━━━━━━━━━━━━┳━━━━━━━━━━━━━━━━━━━━━━━━┳━━━━━━━━━━━━━━━┓\n",
       "┃<span style=\"font-weight: bold\"> Layer (type)                    </span>┃<span style=\"font-weight: bold\"> Output Shape           </span>┃<span style=\"font-weight: bold\">       Param # </span>┃\n",
       "┡━━━━━━━━━━━━━━━━━━━━━━━━━━━━━━━━━╇━━━━━━━━━━━━━━━━━━━━━━━━╇━━━━━━━━━━━━━━━┩\n",
       "│ embedding (<span style=\"color: #0087ff; text-decoration-color: #0087ff\">Embedding</span>)           │ (<span style=\"color: #00af00; text-decoration-color: #00af00\">32</span>, <span style=\"color: #00af00; text-decoration-color: #00af00\">500</span>, <span style=\"color: #00af00; text-decoration-color: #00af00\">128</span>)         │     <span style=\"color: #00af00; text-decoration-color: #00af00\">1,280,000</span> │\n",
       "├─────────────────────────────────┼────────────────────────┼───────────────┤\n",
       "│ simple_rnn (<span style=\"color: #0087ff; text-decoration-color: #0087ff\">SimpleRNN</span>)          │ (<span style=\"color: #00af00; text-decoration-color: #00af00\">32</span>, <span style=\"color: #00af00; text-decoration-color: #00af00\">128</span>)              │        <span style=\"color: #00af00; text-decoration-color: #00af00\">32,896</span> │\n",
       "├─────────────────────────────────┼────────────────────────┼───────────────┤\n",
       "│ dense (<span style=\"color: #0087ff; text-decoration-color: #0087ff\">Dense</span>)                   │ (<span style=\"color: #00af00; text-decoration-color: #00af00\">32</span>, <span style=\"color: #00af00; text-decoration-color: #00af00\">1</span>)                │           <span style=\"color: #00af00; text-decoration-color: #00af00\">129</span> │\n",
       "└─────────────────────────────────┴────────────────────────┴───────────────┘\n",
       "</pre>\n"
      ],
      "text/plain": [
       "┏━━━━━━━━━━━━━━━━━━━━━━━━━━━━━━━━━┳━━━━━━━━━━━━━━━━━━━━━━━━┳━━━━━━━━━━━━━━━┓\n",
       "┃\u001b[1m \u001b[0m\u001b[1mLayer (type)                   \u001b[0m\u001b[1m \u001b[0m┃\u001b[1m \u001b[0m\u001b[1mOutput Shape          \u001b[0m\u001b[1m \u001b[0m┃\u001b[1m \u001b[0m\u001b[1m      Param #\u001b[0m\u001b[1m \u001b[0m┃\n",
       "┡━━━━━━━━━━━━━━━━━━━━━━━━━━━━━━━━━╇━━━━━━━━━━━━━━━━━━━━━━━━╇━━━━━━━━━━━━━━━┩\n",
       "│ embedding (\u001b[38;5;33mEmbedding\u001b[0m)           │ (\u001b[38;5;34m32\u001b[0m, \u001b[38;5;34m500\u001b[0m, \u001b[38;5;34m128\u001b[0m)         │     \u001b[38;5;34m1,280,000\u001b[0m │\n",
       "├─────────────────────────────────┼────────────────────────┼───────────────┤\n",
       "│ simple_rnn (\u001b[38;5;33mSimpleRNN\u001b[0m)          │ (\u001b[38;5;34m32\u001b[0m, \u001b[38;5;34m128\u001b[0m)              │        \u001b[38;5;34m32,896\u001b[0m │\n",
       "├─────────────────────────────────┼────────────────────────┼───────────────┤\n",
       "│ dense (\u001b[38;5;33mDense\u001b[0m)                   │ (\u001b[38;5;34m32\u001b[0m, \u001b[38;5;34m1\u001b[0m)                │           \u001b[38;5;34m129\u001b[0m │\n",
       "└─────────────────────────────────┴────────────────────────┴───────────────┘\n"
      ]
     },
     "metadata": {},
     "output_type": "display_data"
    },
    {
     "data": {
      "text/html": [
       "<pre style=\"white-space:pre;overflow-x:auto;line-height:normal;font-family:Menlo,'DejaVu Sans Mono',consolas,'Courier New',monospace\"><span style=\"font-weight: bold\"> Total params: </span><span style=\"color: #00af00; text-decoration-color: #00af00\">1,313,027</span> (5.01 MB)\n",
       "</pre>\n"
      ],
      "text/plain": [
       "\u001b[1m Total params: \u001b[0m\u001b[38;5;34m1,313,027\u001b[0m (5.01 MB)\n"
      ]
     },
     "metadata": {},
     "output_type": "display_data"
    },
    {
     "data": {
      "text/html": [
       "<pre style=\"white-space:pre;overflow-x:auto;line-height:normal;font-family:Menlo,'DejaVu Sans Mono',consolas,'Courier New',monospace\"><span style=\"font-weight: bold\"> Trainable params: </span><span style=\"color: #00af00; text-decoration-color: #00af00\">1,313,025</span> (5.01 MB)\n",
       "</pre>\n"
      ],
      "text/plain": [
       "\u001b[1m Trainable params: \u001b[0m\u001b[38;5;34m1,313,025\u001b[0m (5.01 MB)\n"
      ]
     },
     "metadata": {},
     "output_type": "display_data"
    },
    {
     "data": {
      "text/html": [
       "<pre style=\"white-space:pre;overflow-x:auto;line-height:normal;font-family:Menlo,'DejaVu Sans Mono',consolas,'Courier New',monospace\"><span style=\"font-weight: bold\"> Non-trainable params: </span><span style=\"color: #00af00; text-decoration-color: #00af00\">0</span> (0.00 B)\n",
       "</pre>\n"
      ],
      "text/plain": [
       "\u001b[1m Non-trainable params: \u001b[0m\u001b[38;5;34m0\u001b[0m (0.00 B)\n"
      ]
     },
     "metadata": {},
     "output_type": "display_data"
    },
    {
     "data": {
      "text/html": [
       "<pre style=\"white-space:pre;overflow-x:auto;line-height:normal;font-family:Menlo,'DejaVu Sans Mono',consolas,'Courier New',monospace\"><span style=\"font-weight: bold\"> Optimizer params: </span><span style=\"color: #00af00; text-decoration-color: #00af00\">2</span> (12.00 B)\n",
       "</pre>\n"
      ],
      "text/plain": [
       "\u001b[1m Optimizer params: \u001b[0m\u001b[38;5;34m2\u001b[0m (12.00 B)\n"
      ]
     },
     "metadata": {},
     "output_type": "display_data"
    }
   ],
   "source": [
    "# Load the pre-trained model with ReLU activation\n",
    "model = load_model('simple_rnn_imdb.h5')\n",
    "model.summary()"
   ]
  },
  {
   "cell_type": "code",
   "execution_count": 4,
   "metadata": {},
   "outputs": [
    {
     "data": {
      "text/plain": [
       "[array([[ 0.02050906, -0.08231331,  0.07218107, ..., -0.0390137 ,\n",
       "          0.04224561,  0.04248313],\n",
       "        [ 0.03136213,  0.03958858,  0.00562774, ...,  0.05212001,\n",
       "          0.02365988, -0.0609963 ],\n",
       "        [-0.08920108, -0.0622327 ,  0.04726888, ..., -0.08120776,\n",
       "          0.04462355, -0.08866929],\n",
       "        ...,\n",
       "        [ 0.06808833, -0.04631485, -0.03359549, ..., -0.03838358,\n",
       "          0.04375979,  0.0800905 ],\n",
       "        [-0.10502253,  0.04542215,  0.07408202, ...,  0.10439137,\n",
       "         -0.00828282, -0.10073227],\n",
       "        [ 0.00621499,  0.01459804, -0.05484679, ...,  0.03685298,\n",
       "         -0.06978846, -0.03869931]], dtype=float32),\n",
       " array([[ 0.08878134, -0.04820515, -0.04857641, ...,  0.17237855,\n",
       "         -0.02025373, -0.01110542],\n",
       "        [ 0.03333392,  0.14351624, -0.08616342, ..., -0.10820606,\n",
       "          0.01605194, -0.01299079],\n",
       "        [-0.03697634, -0.05478331, -0.07594647, ..., -0.08900516,\n",
       "         -0.03505514, -0.14665699],\n",
       "        ...,\n",
       "        [-0.01328807,  0.01575162, -0.03797084, ..., -0.14449565,\n",
       "          0.01574336, -0.00826   ],\n",
       "        [ 0.12246808, -0.11890502, -0.0788883 , ..., -0.07640883,\n",
       "          0.13374837, -0.1344239 ],\n",
       "        [ 0.02506161, -0.0185011 ,  0.09224623, ..., -0.01071633,\n",
       "         -0.13428049,  0.02683953]], dtype=float32),\n",
       " array([[-0.00335341,  0.03539226,  0.03150478, ..., -0.09761589,\n",
       "          0.05728638, -0.02390393],\n",
       "        [-0.00481241,  0.14740616, -0.06760163, ..., -0.03804944,\n",
       "         -0.15059775,  0.10784266],\n",
       "        [-0.05968592, -0.02806883,  0.06035703, ...,  0.11131015,\n",
       "         -0.00227536, -0.08966735],\n",
       "        ...,\n",
       "        [ 0.01997903,  0.05857752,  0.00650532, ..., -0.13329716,\n",
       "          0.14798777,  0.03391611],\n",
       "        [-0.03327665,  0.03704443, -0.09246555, ...,  0.00729373,\n",
       "          0.05678287, -0.05290221],\n",
       "        [ 0.01884261,  0.02044704,  0.0040216 , ..., -0.06804126,\n",
       "          0.07176246, -0.06318924]], dtype=float32),\n",
       " array([-0.0344926 , -0.02672255,  0.02890151,  0.01694901, -0.02627538,\n",
       "         0.00320195, -0.00223576,  0.03501728,  0.04283898, -0.00467297,\n",
       "        -0.04533925, -0.02650647, -0.03224402, -0.00515962,  0.03193521,\n",
       "        -0.08083018, -0.0343174 ,  0.02515329, -0.03739478, -0.00487811,\n",
       "         0.0077661 ,  0.03535767,  0.02415494,  0.02217349,  0.05226837,\n",
       "         0.01894455,  0.02388421, -0.02904685, -0.00818763, -0.02430841,\n",
       "         0.02636961, -0.00813178, -0.02404857, -0.02244813, -0.03640586,\n",
       "        -0.02642852,  0.02269854, -0.03011527, -0.03777804, -0.0433504 ,\n",
       "        -0.0091416 ,  0.04726531,  0.05061494, -0.02759528,  0.00175395,\n",
       "         0.01392266, -0.01216586,  0.00796866, -0.03343042, -0.01364096,\n",
       "         0.00320847, -0.04390791, -0.00855418, -0.00517125,  0.01552075,\n",
       "        -0.05823679,  0.02958493,  0.00363058, -0.02129452,  0.03024705,\n",
       "         0.02024107,  0.02089165,  0.02250097, -0.00639746, -0.03596715,\n",
       "         0.0199037 ,  0.0284406 , -0.00042754,  0.00306003,  0.02089781,\n",
       "        -0.02896621, -0.02537133,  0.01970633, -0.01347965,  0.01875964,\n",
       "        -0.00494894,  0.04864392,  0.01639302, -0.01015591,  0.00769406,\n",
       "        -0.02583665, -0.03475327, -0.02250629, -0.02205682,  0.03475566,\n",
       "        -0.00210681, -0.0131176 , -0.01433012, -0.03653443,  0.01630226,\n",
       "        -0.06135279, -0.02912178,  0.03347973, -0.04496115,  0.01910513,\n",
       "         0.00520114, -0.00945684, -0.02722699, -0.04488318,  0.03243954,\n",
       "         0.02212966, -0.01241631,  0.04917419, -0.02658349,  0.01562892,\n",
       "        -0.03086835,  0.01878166,  0.02948536,  0.00720273, -0.05229548,\n",
       "         0.019658  ,  0.02275105,  0.00345593,  0.01093116,  0.02787544,\n",
       "         0.01204631,  0.01847114, -0.03465029,  0.01417893,  0.02183272,\n",
       "        -0.00129341, -0.01538563, -0.0281119 ,  0.0395499 ,  0.00075318,\n",
       "        -0.02998329,  0.02492742, -0.01931696], dtype=float32),\n",
       " array([[ 1.37657687e-01],\n",
       "        [ 1.24909475e-01],\n",
       "        [-1.80012316e-01],\n",
       "        [-6.70567974e-02],\n",
       "        [ 2.15151474e-01],\n",
       "        [-1.01622574e-01],\n",
       "        [ 5.01359999e-02],\n",
       "        [ 2.04210654e-01],\n",
       "        [ 1.73804641e-01],\n",
       "        [ 1.77164763e-01],\n",
       "        [ 1.82777494e-01],\n",
       "        [ 1.10099344e-02],\n",
       "        [ 1.82878792e-01],\n",
       "        [-5.36494069e-02],\n",
       "        [-1.36285469e-01],\n",
       "        [-1.46869406e-01],\n",
       "        [-2.87227690e-01],\n",
       "        [ 1.95169285e-01],\n",
       "        [ 2.93665808e-02],\n",
       "        [-9.46559012e-02],\n",
       "        [-2.00494543e-01],\n",
       "        [-2.60538071e-01],\n",
       "        [-1.11013971e-01],\n",
       "        [ 1.44986585e-01],\n",
       "        [-1.40096322e-01],\n",
       "        [ 1.32583693e-01],\n",
       "        [ 4.37144749e-02],\n",
       "        [ 2.12634325e-01],\n",
       "        [ 1.83785424e-01],\n",
       "        [ 8.57354254e-02],\n",
       "        [-1.00529999e-01],\n",
       "        [ 1.74630895e-01],\n",
       "        [ 1.72598138e-01],\n",
       "        [ 1.35666296e-01],\n",
       "        [ 3.24443161e-01],\n",
       "        [ 2.34676719e-01],\n",
       "        [-1.79565415e-01],\n",
       "        [-1.30505487e-01],\n",
       "        [ 2.26787299e-01],\n",
       "        [ 2.59219669e-03],\n",
       "        [ 2.20571145e-01],\n",
       "        [ 3.17846454e-04],\n",
       "        [-2.43707851e-01],\n",
       "        [-1.65018097e-01],\n",
       "        [-4.25796688e-01],\n",
       "        [ 1.85330063e-01],\n",
       "        [ 1.94193944e-01],\n",
       "        [ 1.12656221e-01],\n",
       "        [ 4.29046191e-02],\n",
       "        [-1.20550342e-01],\n",
       "        [-1.41202897e-01],\n",
       "        [-3.12928289e-01],\n",
       "        [ 1.26306340e-01],\n",
       "        [ 2.91827563e-02],\n",
       "        [ 3.72765408e-06],\n",
       "        [-3.42608988e-01],\n",
       "        [ 2.29691282e-01],\n",
       "        [ 9.14760530e-02],\n",
       "        [ 4.04331654e-01],\n",
       "        [ 3.53385448e-01],\n",
       "        [ 2.87014365e-01],\n",
       "        [-7.41663128e-02],\n",
       "        [ 2.35172883e-01],\n",
       "        [-3.23123276e-01],\n",
       "        [ 2.18602955e-01],\n",
       "        [-3.95526975e-01],\n",
       "        [-3.24219406e-01],\n",
       "        [ 2.48936206e-01],\n",
       "        [ 2.20552534e-01],\n",
       "        [-6.55685961e-01],\n",
       "        [-1.38712853e-01],\n",
       "        [ 1.12926722e-01],\n",
       "        [-1.07014768e-01],\n",
       "        [-2.60318637e-01],\n",
       "        [ 2.20138296e-01],\n",
       "        [ 5.50731784e-03],\n",
       "        [ 7.56347924e-02],\n",
       "        [-1.73658222e-01],\n",
       "        [-1.09323271e-01],\n",
       "        [ 9.82270315e-02],\n",
       "        [ 1.79859286e-03],\n",
       "        [-1.73052803e-01],\n",
       "        [-7.93715566e-02],\n",
       "        [ 1.06681809e-01],\n",
       "        [ 3.13275456e-02],\n",
       "        [-2.47548684e-01],\n",
       "        [-2.00763464e-01],\n",
       "        [-2.14182988e-01],\n",
       "        [ 1.37981996e-01],\n",
       "        [ 1.04253881e-01],\n",
       "        [-1.59689605e-01],\n",
       "        [ 2.37834990e-01],\n",
       "        [-6.58130273e-02],\n",
       "        [-1.44655019e-01],\n",
       "        [ 7.44178370e-02],\n",
       "        [-1.17742261e-02],\n",
       "        [-5.99573813e-02],\n",
       "        [ 1.60501629e-01],\n",
       "        [-1.38435345e-02],\n",
       "        [-1.47172123e-01],\n",
       "        [ 2.34901339e-01],\n",
       "        [ 1.35080159e-01],\n",
       "        [-1.11064062e-01],\n",
       "        [ 1.53867498e-01],\n",
       "        [ 1.61722124e-01],\n",
       "        [-3.97778273e-01],\n",
       "        [-6.34888858e-02],\n",
       "        [-1.18333071e-01],\n",
       "        [-1.67697296e-01],\n",
       "        [ 1.23035312e-01],\n",
       "        [-7.85894245e-02],\n",
       "        [ 1.94775999e-01],\n",
       "        [ 2.43293475e-02],\n",
       "        [-2.31644705e-01],\n",
       "        [-2.48074010e-02],\n",
       "        [-1.71383247e-02],\n",
       "        [ 8.40902179e-02],\n",
       "        [ 1.53474927e-01],\n",
       "        [ 2.23797262e-01],\n",
       "        [-1.52791917e-01],\n",
       "        [ 1.87574103e-01],\n",
       "        [-1.24359772e-01],\n",
       "        [ 3.45198005e-01],\n",
       "        [-4.86690521e-01],\n",
       "        [-1.34090364e-01],\n",
       "        [-4.49442230e-02],\n",
       "        [-2.46798843e-01],\n",
       "        [ 2.14125112e-01]], dtype=float32),\n",
       " array([-0.14681615], dtype=float32)]"
      ]
     },
     "execution_count": 4,
     "metadata": {},
     "output_type": "execute_result"
    }
   ],
   "source": [
    "model.get_weights()"
   ]
  },
  {
   "cell_type": "code",
   "execution_count": 5,
   "metadata": {},
   "outputs": [],
   "source": [
    "# Step 2: Helper Functions\n",
    "# Function to decode reviews\n",
    "def decode_review(encoded_review):\n",
    "    return ' '.join([reverse_word_index.get(i - 3, '?') for i in encoded_review])\n",
    "\n",
    "# Function to preprocess user input\n",
    "def preprocess_text(text):\n",
    "    words = text.lower().split()\n",
    "    encoded_review = [word_index.get(word, 2) + 3 for word in words]\n",
    "    padded_review = sequence.pad_sequences([encoded_review], maxlen=500)\n",
    "    return padded_review"
   ]
  },
  {
   "cell_type": "code",
   "execution_count": 6,
   "metadata": {},
   "outputs": [],
   "source": [
    "### Prediction  function\n",
    "\n",
    "def predict_sentiment(review):\n",
    "    preprocessed_input=preprocess_text(review)\n",
    "\n",
    "    prediction=model.predict(preprocessed_input)\n",
    "\n",
    "    sentiment = 'Positive' if prediction[0][0] > 0.5 else 'Negative'\n",
    "    \n",
    "    return sentiment, prediction[0][0]\n",
    "\n"
   ]
  },
  {
   "cell_type": "code",
   "execution_count": 7,
   "metadata": {},
   "outputs": [
    {
     "name": "stdout",
     "output_type": "stream",
     "text": [
      "\u001b[1m1/1\u001b[0m \u001b[32m━━━━━━━━━━━━━━━━━━━━\u001b[0m\u001b[37m\u001b[0m \u001b[1m0s\u001b[0m 161ms/step\n",
      "Review: This movie was fantastic! The acting was great and the plot was thrilling.\n",
      "Sentiment: Positive\n",
      "Prediction Score: 0.669034481048584\n"
     ]
    }
   ],
   "source": [
    "# Step 4: User Input and Prediction\n",
    "# Example review for prediction\n",
    "example_review = \"This movie was fantastic! The acting was great and the plot was thrilling.\"\n",
    "\n",
    "sentiment,score=predict_sentiment(example_review)\n",
    "\n",
    "print(f'Review: {example_review}')\n",
    "print(f'Sentiment: {sentiment}')\n",
    "print(f'Prediction Score: {score}')"
   ]
  },
  {
   "cell_type": "code",
   "execution_count": 9,
   "metadata": {},
   "outputs": [
    {
     "name": "stdout",
     "output_type": "stream",
     "text": [
      "\u001b[1m1/1\u001b[0m \u001b[32m━━━━━━━━━━━━━━━━━━━━\u001b[0m\u001b[37m\u001b[0m \u001b[1m0s\u001b[0m 47ms/step\n",
      "Review: This movie was pretty wuzz\n",
      "Sentiment: Negative\n",
      "Prediction Score: 0.42050987482070923\n"
     ]
    }
   ],
   "source": [
    "# Step 4: User Input and Prediction\n",
    "# Example review for prediction\n",
    "example_review = \"This movie was pretty wuzz\"\n",
    "\n",
    "sentiment,score=predict_sentiment(example_review)\n",
    "\n",
    "print(f'Review: {example_review}')\n",
    "print(f'Sentiment: {sentiment}')\n",
    "print(f'Prediction Score: {score}')"
   ]
  },
  {
   "cell_type": "code",
   "execution_count": null,
   "metadata": {},
   "outputs": [],
   "source": []
  },
  {
   "cell_type": "code",
   "execution_count": 13,
   "metadata": {},
   "outputs": [
    {
     "name": "stderr",
     "output_type": "stream",
     "text": [
      "WARNING:absl:Compiled the loaded model, but the compiled metrics have yet to be built. `model.compile_metrics` will be empty until you train or evaluate the model.\n"
     ]
    }
   ],
   "source": [
    "model = tf.keras.models.load_model('simple_rnn_imdb.h5')\n",
    "model.save('simple_rnn_imdb_savedmodel.keras')"
   ]
  },
  {
   "cell_type": "code",
   "execution_count": null,
   "metadata": {},
   "outputs": [],
   "source": []
  }
 ],
 "metadata": {
  "kernelspec": {
   "display_name": "Python 3",
   "language": "python",
   "name": "python3"
  },
  "language_info": {
   "codemirror_mode": {
    "name": "ipython",
    "version": 3
   },
   "file_extension": ".py",
   "mimetype": "text/x-python",
   "name": "python",
   "nbconvert_exporter": "python",
   "pygments_lexer": "ipython3",
   "version": "3.11.9"
  }
 },
 "nbformat": 4,
 "nbformat_minor": 2
}
