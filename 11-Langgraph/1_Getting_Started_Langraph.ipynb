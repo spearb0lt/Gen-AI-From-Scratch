{
  "cells": [
    {
      "cell_type": "markdown",
      "metadata": {
        "id": "qsFqqI3E8Xn4"
      },
      "source": [
        "## Chatbots With Langgraph"
      ]
    },
    {
      "cell_type": "markdown",
      "metadata": {},
      "source": [
        "langgraph to create stateful multi actor applicn with llms used to create agent and multi agent workflos\n",
        "\n",
        "compared to other llm frameworks offers core benefits :cycles,conrolablity and persisitence.allsows to define flows that invlove cycles essential for most agentic architectures differentiating it from DAG based"
      ]
    },
    {
      "cell_type": "markdown",
      "metadata": {},
      "source": [
        "simplifies development state management nd aganet coordination\n",
        "flexibilty to define ageny logic and coomunixcationprotocols\n",
        "scalability large sale multiagent applln\n",
        "Fault Tolerance handle erros\n"
      ]
    },
    {
      "cell_type": "code",
      "execution_count": 1,
      "metadata": {
        "colab": {
          "base_uri": "https://localhost:8080/"
        },
        "id": "aDGN7B1e8cX_",
        "outputId": "72a6b2d2-b5c0-4b21-fa0d-2d1bb4985267"
      },
      "outputs": [
        {
          "name": "stdout",
          "output_type": "stream",
          "text": [
            "Collecting langgraph\n",
            "  Downloading langgraph-0.5.2-py3-none-any.whl.metadata (6.7 kB)\n",
            "Requirement already satisfied: langsmith in c:\\users\\asus\\desktop\\gen-ai_from_scratch\\5-langchain\\venv\\lib\\site-packages (0.3.45)\n",
            "Requirement already satisfied: langchain-core>=0.1 in c:\\users\\asus\\desktop\\gen-ai_from_scratch\\5-langchain\\venv\\lib\\site-packages (from langgraph) (0.3.68)\n",
            "Collecting langgraph-checkpoint<3.0.0,>=2.1.0 (from langgraph)\n",
            "  Downloading langgraph_checkpoint-2.1.0-py3-none-any.whl.metadata (4.2 kB)\n",
            "Collecting langgraph-prebuilt<0.6.0,>=0.5.0 (from langgraph)\n",
            "  Downloading langgraph_prebuilt-0.5.2-py3-none-any.whl.metadata (4.5 kB)\n",
            "Collecting langgraph-sdk<0.2.0,>=0.1.42 (from langgraph)\n",
            "  Downloading langgraph_sdk-0.1.72-py3-none-any.whl.metadata (1.5 kB)\n",
            "Requirement already satisfied: pydantic>=2.7.4 in c:\\users\\asus\\desktop\\gen-ai_from_scratch\\5-langchain\\venv\\lib\\site-packages (from langgraph) (2.11.7)\n",
            "Requirement already satisfied: xxhash>=3.5.0 in c:\\users\\asus\\desktop\\gen-ai_from_scratch\\5-langchain\\venv\\lib\\site-packages (from langgraph) (3.5.0)\n",
            "Collecting ormsgpack>=1.10.0 (from langgraph-checkpoint<3.0.0,>=2.1.0->langgraph)\n",
            "  Downloading ormsgpack-1.10.0-cp310-cp310-win_amd64.whl.metadata (44 kB)\n",
            "Requirement already satisfied: httpx>=0.25.2 in c:\\users\\asus\\desktop\\gen-ai_from_scratch\\5-langchain\\venv\\lib\\site-packages (from langgraph-sdk<0.2.0,>=0.1.42->langgraph) (0.28.1)\n",
            "Requirement already satisfied: orjson>=3.10.1 in c:\\users\\asus\\desktop\\gen-ai_from_scratch\\5-langchain\\venv\\lib\\site-packages (from langgraph-sdk<0.2.0,>=0.1.42->langgraph) (3.10.18)\n",
            "Requirement already satisfied: packaging>=23.2 in c:\\users\\asus\\desktop\\gen-ai_from_scratch\\5-langchain\\venv\\lib\\site-packages (from langsmith) (24.2)\n",
            "Requirement already satisfied: requests<3,>=2 in c:\\users\\asus\\desktop\\gen-ai_from_scratch\\5-langchain\\venv\\lib\\site-packages (from langsmith) (2.32.4)\n",
            "Requirement already satisfied: requests-toolbelt<2.0.0,>=1.0.0 in c:\\users\\asus\\desktop\\gen-ai_from_scratch\\5-langchain\\venv\\lib\\site-packages (from langsmith) (1.0.0)\n",
            "Requirement already satisfied: zstandard<0.24.0,>=0.23.0 in c:\\users\\asus\\desktop\\gen-ai_from_scratch\\5-langchain\\venv\\lib\\site-packages (from langsmith) (0.23.0)\n",
            "Requirement already satisfied: anyio in c:\\users\\asus\\desktop\\gen-ai_from_scratch\\5-langchain\\venv\\lib\\site-packages (from httpx>=0.25.2->langgraph-sdk<0.2.0,>=0.1.42->langgraph) (4.9.0)\n",
            "Requirement already satisfied: certifi in c:\\users\\asus\\desktop\\gen-ai_from_scratch\\5-langchain\\venv\\lib\\site-packages (from httpx>=0.25.2->langgraph-sdk<0.2.0,>=0.1.42->langgraph) (2025.6.15)\n",
            "Requirement already satisfied: httpcore==1.* in c:\\users\\asus\\desktop\\gen-ai_from_scratch\\5-langchain\\venv\\lib\\site-packages (from httpx>=0.25.2->langgraph-sdk<0.2.0,>=0.1.42->langgraph) (1.0.9)\n",
            "Requirement already satisfied: idna in c:\\users\\asus\\desktop\\gen-ai_from_scratch\\5-langchain\\venv\\lib\\site-packages (from httpx>=0.25.2->langgraph-sdk<0.2.0,>=0.1.42->langgraph) (3.10)\n",
            "Requirement already satisfied: h11>=0.16 in c:\\users\\asus\\desktop\\gen-ai_from_scratch\\5-langchain\\venv\\lib\\site-packages (from httpcore==1.*->httpx>=0.25.2->langgraph-sdk<0.2.0,>=0.1.42->langgraph) (0.16.0)\n",
            "Requirement already satisfied: annotated-types>=0.6.0 in c:\\users\\asus\\desktop\\gen-ai_from_scratch\\5-langchain\\venv\\lib\\site-packages (from pydantic>=2.7.4->langgraph) (0.7.0)\n",
            "Requirement already satisfied: pydantic-core==2.33.2 in c:\\users\\asus\\desktop\\gen-ai_from_scratch\\5-langchain\\venv\\lib\\site-packages (from pydantic>=2.7.4->langgraph) (2.33.2)\n",
            "Requirement already satisfied: typing-extensions>=4.12.2 in c:\\users\\asus\\desktop\\gen-ai_from_scratch\\5-langchain\\venv\\lib\\site-packages (from pydantic>=2.7.4->langgraph) (4.14.1)\n",
            "Requirement already satisfied: typing-inspection>=0.4.0 in c:\\users\\asus\\desktop\\gen-ai_from_scratch\\5-langchain\\venv\\lib\\site-packages (from pydantic>=2.7.4->langgraph) (0.4.1)\n",
            "Requirement already satisfied: charset_normalizer<4,>=2 in c:\\users\\asus\\desktop\\gen-ai_from_scratch\\5-langchain\\venv\\lib\\site-packages (from requests<3,>=2->langsmith) (3.4.2)\n",
            "Requirement already satisfied: urllib3<3,>=1.21.1 in c:\\users\\asus\\desktop\\gen-ai_from_scratch\\5-langchain\\venv\\lib\\site-packages (from requests<3,>=2->langsmith) (2.5.0)\n",
            "Requirement already satisfied: tenacity!=8.4.0,<10.0.0,>=8.1.0 in c:\\users\\asus\\desktop\\gen-ai_from_scratch\\5-langchain\\venv\\lib\\site-packages (from langchain-core>=0.1->langgraph) (9.1.2)\n",
            "Requirement already satisfied: jsonpatch<2.0,>=1.33 in c:\\users\\asus\\desktop\\gen-ai_from_scratch\\5-langchain\\venv\\lib\\site-packages (from langchain-core>=0.1->langgraph) (1.33)\n",
            "Requirement already satisfied: PyYAML>=5.3 in c:\\users\\asus\\desktop\\gen-ai_from_scratch\\5-langchain\\venv\\lib\\site-packages (from langchain-core>=0.1->langgraph) (6.0.2)\n",
            "Requirement already satisfied: jsonpointer>=1.9 in c:\\users\\asus\\desktop\\gen-ai_from_scratch\\5-langchain\\venv\\lib\\site-packages (from jsonpatch<2.0,>=1.33->langchain-core>=0.1->langgraph) (3.0.0)\n",
            "Requirement already satisfied: exceptiongroup>=1.0.2 in c:\\users\\asus\\desktop\\gen-ai_from_scratch\\5-langchain\\venv\\lib\\site-packages (from anyio->httpx>=0.25.2->langgraph-sdk<0.2.0,>=0.1.42->langgraph) (1.3.0)\n",
            "Requirement already satisfied: sniffio>=1.1 in c:\\users\\asus\\desktop\\gen-ai_from_scratch\\5-langchain\\venv\\lib\\site-packages (from anyio->httpx>=0.25.2->langgraph-sdk<0.2.0,>=0.1.42->langgraph) (1.3.1)\n",
            "Downloading langgraph-0.5.2-py3-none-any.whl (143 kB)\n",
            "Downloading langgraph_checkpoint-2.1.0-py3-none-any.whl (43 kB)\n",
            "Downloading langgraph_prebuilt-0.5.2-py3-none-any.whl (23 kB)\n",
            "Downloading langgraph_sdk-0.1.72-py3-none-any.whl (50 kB)\n",
            "Downloading ormsgpack-1.10.0-cp310-cp310-win_amd64.whl (121 kB)\n",
            "Installing collected packages: ormsgpack, langgraph-sdk, langgraph-checkpoint, langgraph-prebuilt, langgraph\n",
            "\n",
            "   -------- ------------------------------- 1/5 [langgraph-sdk]\n",
            "   ---------------- ----------------------- 2/5 [langgraph-checkpoint]\n",
            "   ------------------------ --------------- 3/5 [langgraph-prebuilt]\n",
            "   -------------------------------- ------- 4/5 [langgraph]\n",
            "   -------------------------------- ------- 4/5 [langgraph]\n",
            "   -------------------------------- ------- 4/5 [langgraph]\n",
            "   -------------------------------- ------- 4/5 [langgraph]\n",
            "   -------------------------------- ------- 4/5 [langgraph]\n",
            "   ---------------------------------------- 5/5 [langgraph]\n",
            "\n",
            "Successfully installed langgraph-0.5.2 langgraph-checkpoint-2.1.0 langgraph-prebuilt-0.5.2 langgraph-sdk-0.1.72 ormsgpack-1.10.0\n"
          ]
        }
      ],
      "source": [
        "!pip install langgraph langsmith"
      ]
    },
    {
      "cell_type": "markdown",
      "metadata": {},
      "source": []
    },
    {
      "cell_type": "code",
      "execution_count": 2,
      "metadata": {
        "colab": {
          "base_uri": "https://localhost:8080/"
        },
        "id": "uOSj_MR1AHBs",
        "outputId": "207a3ab4-0503-4b6b-fa24-d630d7cc66a8"
      },
      "outputs": [
        {
          "name": "stdout",
          "output_type": "stream",
          "text": [
            "Requirement already satisfied: langchain in c:\\users\\asus\\desktop\\gen-ai_from_scratch\\5-langchain\\venv\\lib\\site-packages (0.3.26)\n",
            "Requirement already satisfied: langchain_groq in c:\\users\\asus\\desktop\\gen-ai_from_scratch\\5-langchain\\venv\\lib\\site-packages (0.3.5)\n",
            "Requirement already satisfied: langchain_community in c:\\users\\asus\\desktop\\gen-ai_from_scratch\\5-langchain\\venv\\lib\\site-packages (0.3.27)\n",
            "Requirement already satisfied: langchain-core<1.0.0,>=0.3.66 in c:\\users\\asus\\desktop\\gen-ai_from_scratch\\5-langchain\\venv\\lib\\site-packages (from langchain) (0.3.68)\n",
            "Requirement already satisfied: langchain-text-splitters<1.0.0,>=0.3.8 in c:\\users\\asus\\desktop\\gen-ai_from_scratch\\5-langchain\\venv\\lib\\site-packages (from langchain) (0.3.8)\n",
            "Requirement already satisfied: langsmith>=0.1.17 in c:\\users\\asus\\desktop\\gen-ai_from_scratch\\5-langchain\\venv\\lib\\site-packages (from langchain) (0.3.45)\n",
            "Requirement already satisfied: pydantic<3.0.0,>=2.7.4 in c:\\users\\asus\\desktop\\gen-ai_from_scratch\\5-langchain\\venv\\lib\\site-packages (from langchain) (2.11.7)\n",
            "Requirement already satisfied: SQLAlchemy<3,>=1.4 in c:\\users\\asus\\desktop\\gen-ai_from_scratch\\5-langchain\\venv\\lib\\site-packages (from langchain) (2.0.41)\n",
            "Requirement already satisfied: requests<3,>=2 in c:\\users\\asus\\desktop\\gen-ai_from_scratch\\5-langchain\\venv\\lib\\site-packages (from langchain) (2.32.4)\n",
            "Requirement already satisfied: PyYAML>=5.3 in c:\\users\\asus\\desktop\\gen-ai_from_scratch\\5-langchain\\venv\\lib\\site-packages (from langchain) (6.0.2)\n",
            "Requirement already satisfied: async-timeout<5.0.0,>=4.0.0 in c:\\users\\asus\\desktop\\gen-ai_from_scratch\\5-langchain\\venv\\lib\\site-packages (from langchain) (4.0.3)\n",
            "Requirement already satisfied: tenacity!=8.4.0,<10.0.0,>=8.1.0 in c:\\users\\asus\\desktop\\gen-ai_from_scratch\\5-langchain\\venv\\lib\\site-packages (from langchain-core<1.0.0,>=0.3.66->langchain) (9.1.2)\n",
            "Requirement already satisfied: jsonpatch<2.0,>=1.33 in c:\\users\\asus\\desktop\\gen-ai_from_scratch\\5-langchain\\venv\\lib\\site-packages (from langchain-core<1.0.0,>=0.3.66->langchain) (1.33)\n",
            "Requirement already satisfied: packaging<25,>=23.2 in c:\\users\\asus\\desktop\\gen-ai_from_scratch\\5-langchain\\venv\\lib\\site-packages (from langchain-core<1.0.0,>=0.3.66->langchain) (24.2)\n",
            "Requirement already satisfied: typing-extensions>=4.7 in c:\\users\\asus\\desktop\\gen-ai_from_scratch\\5-langchain\\venv\\lib\\site-packages (from langchain-core<1.0.0,>=0.3.66->langchain) (4.14.1)\n",
            "Requirement already satisfied: jsonpointer>=1.9 in c:\\users\\asus\\desktop\\gen-ai_from_scratch\\5-langchain\\venv\\lib\\site-packages (from jsonpatch<2.0,>=1.33->langchain-core<1.0.0,>=0.3.66->langchain) (3.0.0)\n",
            "Requirement already satisfied: annotated-types>=0.6.0 in c:\\users\\asus\\desktop\\gen-ai_from_scratch\\5-langchain\\venv\\lib\\site-packages (from pydantic<3.0.0,>=2.7.4->langchain) (0.7.0)\n",
            "Requirement already satisfied: pydantic-core==2.33.2 in c:\\users\\asus\\desktop\\gen-ai_from_scratch\\5-langchain\\venv\\lib\\site-packages (from pydantic<3.0.0,>=2.7.4->langchain) (2.33.2)\n",
            "Requirement already satisfied: typing-inspection>=0.4.0 in c:\\users\\asus\\desktop\\gen-ai_from_scratch\\5-langchain\\venv\\lib\\site-packages (from pydantic<3.0.0,>=2.7.4->langchain) (0.4.1)\n",
            "Requirement already satisfied: charset_normalizer<4,>=2 in c:\\users\\asus\\desktop\\gen-ai_from_scratch\\5-langchain\\venv\\lib\\site-packages (from requests<3,>=2->langchain) (3.4.2)\n",
            "Requirement already satisfied: idna<4,>=2.5 in c:\\users\\asus\\desktop\\gen-ai_from_scratch\\5-langchain\\venv\\lib\\site-packages (from requests<3,>=2->langchain) (3.10)\n",
            "Requirement already satisfied: urllib3<3,>=1.21.1 in c:\\users\\asus\\desktop\\gen-ai_from_scratch\\5-langchain\\venv\\lib\\site-packages (from requests<3,>=2->langchain) (2.5.0)\n",
            "Requirement already satisfied: certifi>=2017.4.17 in c:\\users\\asus\\desktop\\gen-ai_from_scratch\\5-langchain\\venv\\lib\\site-packages (from requests<3,>=2->langchain) (2025.6.15)\n",
            "Requirement already satisfied: greenlet>=1 in c:\\users\\asus\\desktop\\gen-ai_from_scratch\\5-langchain\\venv\\lib\\site-packages (from SQLAlchemy<3,>=1.4->langchain) (3.2.3)\n",
            "Requirement already satisfied: groq<1,>=0.29.0 in c:\\users\\asus\\desktop\\gen-ai_from_scratch\\5-langchain\\venv\\lib\\site-packages (from langchain_groq) (0.29.0)\n",
            "Requirement already satisfied: anyio<5,>=3.5.0 in c:\\users\\asus\\desktop\\gen-ai_from_scratch\\5-langchain\\venv\\lib\\site-packages (from groq<1,>=0.29.0->langchain_groq) (4.9.0)\n",
            "Requirement already satisfied: distro<2,>=1.7.0 in c:\\users\\asus\\desktop\\gen-ai_from_scratch\\5-langchain\\venv\\lib\\site-packages (from groq<1,>=0.29.0->langchain_groq) (1.9.0)\n",
            "Requirement already satisfied: httpx<1,>=0.23.0 in c:\\users\\asus\\desktop\\gen-ai_from_scratch\\5-langchain\\venv\\lib\\site-packages (from groq<1,>=0.29.0->langchain_groq) (0.28.1)\n",
            "Requirement already satisfied: sniffio in c:\\users\\asus\\desktop\\gen-ai_from_scratch\\5-langchain\\venv\\lib\\site-packages (from groq<1,>=0.29.0->langchain_groq) (1.3.1)\n",
            "Requirement already satisfied: exceptiongroup>=1.0.2 in c:\\users\\asus\\desktop\\gen-ai_from_scratch\\5-langchain\\venv\\lib\\site-packages (from anyio<5,>=3.5.0->groq<1,>=0.29.0->langchain_groq) (1.3.0)\n",
            "Requirement already satisfied: httpcore==1.* in c:\\users\\asus\\desktop\\gen-ai_from_scratch\\5-langchain\\venv\\lib\\site-packages (from httpx<1,>=0.23.0->groq<1,>=0.29.0->langchain_groq) (1.0.9)\n",
            "Requirement already satisfied: h11>=0.16 in c:\\users\\asus\\desktop\\gen-ai_from_scratch\\5-langchain\\venv\\lib\\site-packages (from httpcore==1.*->httpx<1,>=0.23.0->groq<1,>=0.29.0->langchain_groq) (0.16.0)\n",
            "Requirement already satisfied: aiohttp<4.0.0,>=3.8.3 in c:\\users\\asus\\desktop\\gen-ai_from_scratch\\5-langchain\\venv\\lib\\site-packages (from langchain_community) (3.12.13)\n",
            "Requirement already satisfied: dataclasses-json<0.7,>=0.5.7 in c:\\users\\asus\\desktop\\gen-ai_from_scratch\\5-langchain\\venv\\lib\\site-packages (from langchain_community) (0.6.7)\n",
            "Requirement already satisfied: pydantic-settings<3.0.0,>=2.4.0 in c:\\users\\asus\\desktop\\gen-ai_from_scratch\\5-langchain\\venv\\lib\\site-packages (from langchain_community) (2.10.1)\n",
            "Requirement already satisfied: httpx-sse<1.0.0,>=0.4.0 in c:\\users\\asus\\desktop\\gen-ai_from_scratch\\5-langchain\\venv\\lib\\site-packages (from langchain_community) (0.4.0)\n",
            "Requirement already satisfied: numpy>=1.26.2 in c:\\users\\asus\\desktop\\gen-ai_from_scratch\\5-langchain\\venv\\lib\\site-packages (from langchain_community) (1.26.4)\n",
            "Requirement already satisfied: aiohappyeyeballs>=2.5.0 in c:\\users\\asus\\desktop\\gen-ai_from_scratch\\5-langchain\\venv\\lib\\site-packages (from aiohttp<4.0.0,>=3.8.3->langchain_community) (2.6.1)\n",
            "Requirement already satisfied: aiosignal>=1.1.2 in c:\\users\\asus\\desktop\\gen-ai_from_scratch\\5-langchain\\venv\\lib\\site-packages (from aiohttp<4.0.0,>=3.8.3->langchain_community) (1.4.0)\n",
            "Requirement already satisfied: attrs>=17.3.0 in c:\\users\\asus\\desktop\\gen-ai_from_scratch\\5-langchain\\venv\\lib\\site-packages (from aiohttp<4.0.0,>=3.8.3->langchain_community) (25.3.0)\n",
            "Requirement already satisfied: frozenlist>=1.1.1 in c:\\users\\asus\\desktop\\gen-ai_from_scratch\\5-langchain\\venv\\lib\\site-packages (from aiohttp<4.0.0,>=3.8.3->langchain_community) (1.7.0)\n",
            "Requirement already satisfied: multidict<7.0,>=4.5 in c:\\users\\asus\\desktop\\gen-ai_from_scratch\\5-langchain\\venv\\lib\\site-packages (from aiohttp<4.0.0,>=3.8.3->langchain_community) (6.6.3)\n",
            "Requirement already satisfied: propcache>=0.2.0 in c:\\users\\asus\\desktop\\gen-ai_from_scratch\\5-langchain\\venv\\lib\\site-packages (from aiohttp<4.0.0,>=3.8.3->langchain_community) (0.3.2)\n",
            "Requirement already satisfied: yarl<2.0,>=1.17.0 in c:\\users\\asus\\desktop\\gen-ai_from_scratch\\5-langchain\\venv\\lib\\site-packages (from aiohttp<4.0.0,>=3.8.3->langchain_community) (1.20.1)\n",
            "Requirement already satisfied: marshmallow<4.0.0,>=3.18.0 in c:\\users\\asus\\desktop\\gen-ai_from_scratch\\5-langchain\\venv\\lib\\site-packages (from dataclasses-json<0.7,>=0.5.7->langchain_community) (3.26.1)\n",
            "Requirement already satisfied: typing-inspect<1,>=0.4.0 in c:\\users\\asus\\desktop\\gen-ai_from_scratch\\5-langchain\\venv\\lib\\site-packages (from dataclasses-json<0.7,>=0.5.7->langchain_community) (0.9.0)\n",
            "Requirement already satisfied: python-dotenv>=0.21.0 in c:\\users\\asus\\desktop\\gen-ai_from_scratch\\5-langchain\\venv\\lib\\site-packages (from pydantic-settings<3.0.0,>=2.4.0->langchain_community) (1.1.1)\n",
            "Requirement already satisfied: mypy-extensions>=0.3.0 in c:\\users\\asus\\desktop\\gen-ai_from_scratch\\5-langchain\\venv\\lib\\site-packages (from typing-inspect<1,>=0.4.0->dataclasses-json<0.7,>=0.5.7->langchain_community) (1.1.0)\n",
            "Requirement already satisfied: orjson<4.0.0,>=3.9.14 in c:\\users\\asus\\desktop\\gen-ai_from_scratch\\5-langchain\\venv\\lib\\site-packages (from langsmith>=0.1.17->langchain) (3.10.18)\n",
            "Requirement already satisfied: requests-toolbelt<2.0.0,>=1.0.0 in c:\\users\\asus\\desktop\\gen-ai_from_scratch\\5-langchain\\venv\\lib\\site-packages (from langsmith>=0.1.17->langchain) (1.0.0)\n",
            "Requirement already satisfied: zstandard<0.24.0,>=0.23.0 in c:\\users\\asus\\desktop\\gen-ai_from_scratch\\5-langchain\\venv\\lib\\site-packages (from langsmith>=0.1.17->langchain) (0.23.0)\n"
          ]
        }
      ],
      "source": [
        "!pip install langchain langchain_groq langchain_community"
      ]
    },
    {
      "cell_type": "code",
      "execution_count": null,
      "metadata": {},
      "outputs": [],
      "source": []
    },
    {
      "cell_type": "code",
      "execution_count": 5,
      "metadata": {},
      "outputs": [
        {
          "data": {
            "text/plain": [
              "True"
            ]
          },
          "execution_count": 5,
          "metadata": {},
          "output_type": "execute_result"
        }
      ],
      "source": [
        "import os\n",
        "from dotenv import load_dotenv\n",
        "load_dotenv()"
      ]
    },
    {
      "cell_type": "code",
      "execution_count": 59,
      "metadata": {
        "colab": {
          "base_uri": "https://localhost:8080/"
        },
        "id": "TgKIrwXJAjgA",
        "outputId": "7eec3700-d2d7-4ca3-bc2c-875c9cae1dd3"
      },
      "outputs": [
        {
          "name": "stdout",
          "output_type": "stream",
          "text": [
            "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\n"
          ]
        }
      ],
      "source": [
        "# from google.colab import userdata\n",
        "# groq_api_key=os.getenv('GROQ_API_KEY')\n",
        "groq_api_key=\"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\"\n",
        "# langsmith=os.getenv('LANGSMITH_API_KEY')\n",
        "langsmith=\"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\"\n",
        "print(langsmith)\n"
      ]
    },
    {
      "cell_type": "code",
      "execution_count": 60,
      "metadata": {
        "id": "YFpKBPoZBQAa"
      },
      "outputs": [],
      "source": [
        "import os\n",
        "os.environ[\"LANGCHAIN_API_KEY\"] = langsmith\n",
        "os.environ[\"LANGCHAIN_TRACING_V2\"]=\"true\"\n",
        "os.environ[\"LANGCHAIN_PROJECT\"]=\"CourseLanggraph\""
      ]
    },
    {
      "cell_type": "code",
      "execution_count": 61,
      "metadata": {
        "id": "XJZl9uX-CFo7"
      },
      "outputs": [],
      "source": [
        "from langchain_groq import ChatGroq"
      ]
    },
    {
      "cell_type": "code",
      "execution_count": 62,
      "metadata": {
        "colab": {
          "base_uri": "https://localhost:8080/"
        },
        "id": "j9vOWf8yCJ4W",
        "outputId": "91931387-650d-4d7a-95de-31735c66ce27"
      },
      "outputs": [
        {
          "data": {
            "text/plain": [
              "ChatGroq(client=<groq.resources.chat.completions.Completions object at 0x0000025633015C60>, async_client=<groq.resources.chat.completions.AsyncCompletions object at 0x000002562962C850>, model_name='gemma2-9b-it', model_kwargs={}, groq_api_key=SecretStr('**********'))"
            ]
          },
          "execution_count": 62,
          "metadata": {},
          "output_type": "execute_result"
        }
      ],
      "source": [
        "llm=ChatGroq(groq_api_key=groq_api_key,model_name=\"gemma2-9b-it\")\n",
        "llm"
      ]
    },
    {
      "cell_type": "markdown",
      "metadata": {
        "id": "RDc7RviFCVKB"
      },
      "source": [
        "## Start Building Chatbot Using Langgraph"
      ]
    },
    {
      "cell_type": "code",
      "execution_count": 63,
      "metadata": {
        "id": "bPcSBey6CUeF"
      },
      "outputs": [],
      "source": [
        "from typing import Annotated\n",
        "from typing_extensions import TypedDict\n",
        "from langgraph.graph import StateGraph,START,END\n",
        "from langgraph.graph.message import add_messages"
      ]
    },
    {
      "cell_type": "code",
      "execution_count": 64,
      "metadata": {
        "id": "dVzn-8rrC6-7"
      },
      "outputs": [],
      "source": [
        "class State(TypedDict):\n",
        "  # Messages have the type \"list\". The `add_messages` function\n",
        "    # in the annotation defines how this state key should be updated\n",
        "    # (in this case, it appends messages to the list, rather than overwriting them)\n",
        "  messages:Annotated[list,add_messages]\n",
        "\n",
        "graph_builder=StateGraph(State)\n"
      ]
    },
    {
      "cell_type": "code",
      "execution_count": 65,
      "metadata": {
        "colab": {
          "base_uri": "https://localhost:8080/"
        },
        "id": "vgjwX6BQDcfk",
        "outputId": "10f24dc5-6242-454b-b61c-cfecf260ae22"
      },
      "outputs": [
        {
          "data": {
            "text/plain": [
              "<langgraph.graph.state.StateGraph at 0x2563308fa00>"
            ]
          },
          "execution_count": 65,
          "metadata": {},
          "output_type": "execute_result"
        }
      ],
      "source": [
        "graph_builder"
      ]
    },
    {
      "cell_type": "code",
      "execution_count": 66,
      "metadata": {
        "id": "oOF74t5GDeJO"
      },
      "outputs": [],
      "source": [
        "def chatbot(state:State):\n",
        "  return {\"messages\":llm.invoke(state['messages'])}"
      ]
    },
    {
      "cell_type": "code",
      "execution_count": 67,
      "metadata": {
        "id": "-m7NDe74EPGW"
      },
      "outputs": [
        {
          "data": {
            "text/plain": [
              "<langgraph.graph.state.StateGraph at 0x2563308fa00>"
            ]
          },
          "execution_count": 67,
          "metadata": {},
          "output_type": "execute_result"
        }
      ],
      "source": [
        "graph_builder.add_node(\"chatbot\",chatbot)"
      ]
    },
    {
      "cell_type": "code",
      "execution_count": 68,
      "metadata": {
        "colab": {
          "base_uri": "https://localhost:8080/"
        },
        "id": "pKFbmbqcEVIq",
        "outputId": "9f91e0af-022e-4485-8151-db69c5cc3ccb"
      },
      "outputs": [
        {
          "data": {
            "text/plain": [
              "<langgraph.graph.state.StateGraph at 0x2563308fa00>"
            ]
          },
          "execution_count": 68,
          "metadata": {},
          "output_type": "execute_result"
        }
      ],
      "source": [
        "graph_builder"
      ]
    },
    {
      "cell_type": "code",
      "execution_count": 69,
      "metadata": {
        "id": "3jBWX44IEWy-"
      },
      "outputs": [
        {
          "data": {
            "text/plain": [
              "<langgraph.graph.state.StateGraph at 0x2563308fa00>"
            ]
          },
          "execution_count": 69,
          "metadata": {},
          "output_type": "execute_result"
        }
      ],
      "source": [
        "graph_builder.add_edge(START,\"chatbot\")\n",
        "graph_builder.add_edge(\"chatbot\",END)"
      ]
    },
    {
      "cell_type": "code",
      "execution_count": 70,
      "metadata": {
        "id": "PN4O63shEtyZ"
      },
      "outputs": [],
      "source": [
        "graph=graph_builder.compile()"
      ]
    },
    {
      "cell_type": "code",
      "execution_count": 71,
      "metadata": {
        "colab": {
          "base_uri": "https://localhost:8080/",
          "height": 236
        },
        "id": "_PPER3gfEygm",
        "outputId": "fbe87a93-4e15-47e7-9cc3-5cebe43ce64f"
      },
      "outputs": [
        {
          "data": {
            "image/png": "[encoded data removed]",
            "text/plain": [
              "<IPython.core.display.Image object>"
            ]
          },
          "metadata": {},
          "output_type": "display_data"
        }
      ],
      "source": [
        "from IPython.display import Image, display\n",
        "try:\n",
        "  display(Image(graph.get_graph().draw_mermaid_png()))\n",
        "except Exception:\n",
        "  pass"
      ]
    },
    {
      "cell_type": "code",
      "execution_count": 72,
      "metadata": {
        "colab": {
          "base_uri": "https://localhost:8080/"
        },
        "id": "aDvjUFmxFCwU",
        "outputId": "c77c0d85-b6f5-4dee-81c5-5c728019aaed"
      },
      "outputs": [
        {
          "name": "stdout",
          "output_type": "stream",
          "text": [
            "dict_values([{'messages': AIMessage(content=\"Hello Shuhbro! 👋\\n\\nIt's nice to meet you. What can I do for you today? 😊  \\n\\n\", additional_kwargs={}, response_metadata={'token_usage': {'completion_tokens': 29, 'prompt_tokens': 15, 'total_tokens': 44, 'completion_time': 0.052727273, 'prompt_time': 0.001899557, 'queue_time': 0.258087283, 'total_time': 0.05462683}, 'model_name': 'gemma2-9b-it', 'system_fingerprint': 'fp_10c08bf97d', 'finish_reason': 'stop', 'logprobs': None}, id='run--5256bc4e-5b9d-479a-a14d-63f89d484bf7-0', usage_metadata={'input_tokens': 15, 'output_tokens': 29, 'total_tokens': 44})}])\n",
            "content=\"Hello Shuhbro! 👋\\n\\nIt's nice to meet you. What can I do for you today? 😊  \\n\\n\" additional_kwargs={} response_metadata={'token_usage': {'completion_tokens': 29, 'prompt_tokens': 15, 'total_tokens': 44, 'completion_time': 0.052727273, 'prompt_time': 0.001899557, 'queue_time': 0.258087283, 'total_time': 0.05462683}, 'model_name': 'gemma2-9b-it', 'system_fingerprint': 'fp_10c08bf97d', 'finish_reason': 'stop', 'logprobs': None} id='run--5256bc4e-5b9d-479a-a14d-63f89d484bf7-0' usage_metadata={'input_tokens': 15, 'output_tokens': 29, 'total_tokens': 44}\n",
            "Assistant: Hello Shuhbro! 👋\n",
            "\n",
            "It's nice to meet you. What can I do for you today? 😊  \n",
            "\n",
            "\n",
            "dict_values([{'messages': AIMessage(content='As an open-weights AI assistant, I can do a lot of things for you! Here are some examples:\\n\\n**Communication & Creativity:**\\n\\n* **Write different kinds of creative content:**\\n\\nStories, poems, articles, dialogue, scripts, musical pieces, email, letters, etc.\\n\\n* **Answer your questions in a comprehensive and informative way:** Even if they are open ended, challenging, or strange.\\n* **Summarize text:** Provide concise summaries of long articles or documents.\\n* **Translate languages:**\\n\\nTranslate text between different languages.\\n* **Engage in conversation:** Chat with you on a wide range of topics.\\n\\n**Productivity & Learning:**\\n\\n* **Help you brainstorm ideas:**\\n\\nGenerate new ideas for projects, stories, or solutions to problems.\\n* **Provide information:** Research topics and give you factual information.\\n* **Explain concepts:** Break down complex ideas into simpler terms.\\n* **Offer different perspectives:** Help you see things from different angles.\\n\\n**Fun & Entertainment:**\\n\\n* **Tell you jokes and riddles.**\\n* **Play text-based games.**\\n* **Create personalized stories based on your input.**\\n\\n**Keep in mind:**\\n\\n* I am still under development and learning new things every day.\\n* My knowledge is based on the data I was trained on, so I may not always have the most up-to-date information.\\n* I am not a substitute for professional advice.\\n\\n**To get started, simply ask me a question or tell me what you want me to do.** For example, you could say:\\n\\n* \"Write me a short story about a robot who learns to feel emotions.\"\\n* \"What are the main causes of climate change?\"\\n* \"Translate \\'Hello, how are you?\\' into Spanish.\"\\n\\nI\\'m excited to see what we can create together!\\n', additional_kwargs={}, response_metadata={'token_usage': {'completion_tokens': 383, 'prompt_tokens': 15, 'total_tokens': 398, 'completion_time': 0.696363636, 'prompt_time': 0.001908857, 'queue_time': 0.260242963, 'total_time': 0.698272493}, 'model_name': 'gemma2-9b-it', 'system_fingerprint': 'fp_10c08bf97d', 'finish_reason': 'stop', 'logprobs': None}, id='run--cf06f3f0-e5c0-45a7-9ec1-4ccd750a7c14-0', usage_metadata={'input_tokens': 15, 'output_tokens': 383, 'total_tokens': 398})}])\n",
            "content='As an open-weights AI assistant, I can do a lot of things for you! Here are some examples:\\n\\n**Communication & Creativity:**\\n\\n* **Write different kinds of creative content:**\\n\\nStories, poems, articles, dialogue, scripts, musical pieces, email, letters, etc.\\n\\n* **Answer your questions in a comprehensive and informative way:** Even if they are open ended, challenging, or strange.\\n* **Summarize text:** Provide concise summaries of long articles or documents.\\n* **Translate languages:**\\n\\nTranslate text between different languages.\\n* **Engage in conversation:** Chat with you on a wide range of topics.\\n\\n**Productivity & Learning:**\\n\\n* **Help you brainstorm ideas:**\\n\\nGenerate new ideas for projects, stories, or solutions to problems.\\n* **Provide information:** Research topics and give you factual information.\\n* **Explain concepts:** Break down complex ideas into simpler terms.\\n* **Offer different perspectives:** Help you see things from different angles.\\n\\n**Fun & Entertainment:**\\n\\n* **Tell you jokes and riddles.**\\n* **Play text-based games.**\\n* **Create personalized stories based on your input.**\\n\\n**Keep in mind:**\\n\\n* I am still under development and learning new things every day.\\n* My knowledge is based on the data I was trained on, so I may not always have the most up-to-date information.\\n* I am not a substitute for professional advice.\\n\\n**To get started, simply ask me a question or tell me what you want me to do.** For example, you could say:\\n\\n* \"Write me a short story about a robot who learns to feel emotions.\"\\n* \"What are the main causes of climate change?\"\\n* \"Translate \\'Hello, how are you?\\' into Spanish.\"\\n\\nI\\'m excited to see what we can create together!\\n' additional_kwargs={} response_metadata={'token_usage': {'completion_tokens': 383, 'prompt_tokens': 15, 'total_tokens': 398, 'completion_time': 0.696363636, 'prompt_time': 0.001908857, 'queue_time': 0.260242963, 'total_time': 0.698272493}, 'model_name': 'gemma2-9b-it', 'system_fingerprint': 'fp_10c08bf97d', 'finish_reason': 'stop', 'logprobs': None} id='run--cf06f3f0-e5c0-45a7-9ec1-4ccd750a7c14-0' usage_metadata={'input_tokens': 15, 'output_tokens': 383, 'total_tokens': 398}\n",
            "Assistant: As an open-weights AI assistant, I can do a lot of things for you! Here are some examples:\n",
            "\n",
            "**Communication & Creativity:**\n",
            "\n",
            "* **Write different kinds of creative content:**\n",
            "\n",
            "Stories, poems, articles, dialogue, scripts, musical pieces, email, letters, etc.\n",
            "\n",
            "* **Answer your questions in a comprehensive and informative way:** Even if they are open ended, challenging, or strange.\n",
            "* **Summarize text:** Provide concise summaries of long articles or documents.\n",
            "* **Translate languages:**\n",
            "\n",
            "Translate text between different languages.\n",
            "* **Engage in conversation:** Chat with you on a wide range of topics.\n",
            "\n",
            "**Productivity & Learning:**\n",
            "\n",
            "* **Help you brainstorm ideas:**\n",
            "\n",
            "Generate new ideas for projects, stories, or solutions to problems.\n",
            "* **Provide information:** Research topics and give you factual information.\n",
            "* **Explain concepts:** Break down complex ideas into simpler terms.\n",
            "* **Offer different perspectives:** Help you see things from different angles.\n",
            "\n",
            "**Fun & Entertainment:**\n",
            "\n",
            "* **Tell you jokes and riddles.**\n",
            "* **Play text-based games.**\n",
            "* **Create personalized stories based on your input.**\n",
            "\n",
            "**Keep in mind:**\n",
            "\n",
            "* I am still under development and learning new things every day.\n",
            "* My knowledge is based on the data I was trained on, so I may not always have the most up-to-date information.\n",
            "* I am not a substitute for professional advice.\n",
            "\n",
            "**To get started, simply ask me a question or tell me what you want me to do.** For example, you could say:\n",
            "\n",
            "* \"Write me a short story about a robot who learns to feel emotions.\"\n",
            "* \"What are the main causes of climate change?\"\n",
            "* \"Translate 'Hello, how are you?' into Spanish.\"\n",
            "\n",
            "I'm excited to see what we can create together!\n",
            "\n",
            "dict_values([{'messages': AIMessage(content=\"Please provide me with a list of the things you'd like me to do! I'm happy to help with a wide range of tasks, such as:\\n\\n* **Answering questions:** I can provide information on a variety of topics.\\n* **Generating creative content:** I can write stories, poems, articles, and more.\\n* **Summarizing text:** I can condense large amounts of information into shorter summaries.\\n* **Translating languages:** I can translate text between multiple languages.\\n* **Coding:** I can help with coding in several programming languages.\\n* **And much more!**\\n\\nJust let me know what you need, and I'll do my best.\\n\", additional_kwargs={}, response_metadata={'token_usage': {'completion_tokens': 145, 'prompt_tokens': 14, 'total_tokens': 159, 'completion_time': 0.263636364, 'prompt_time': 0.001882897, 'queue_time': 0.258947572, 'total_time': 0.265519261}, 'model_name': 'gemma2-9b-it', 'system_fingerprint': 'fp_10c08bf97d', 'finish_reason': 'stop', 'logprobs': None}, id='run--5d70f9e2-102c-4092-8f1c-cbe2a087a4c8-0', usage_metadata={'input_tokens': 14, 'output_tokens': 145, 'total_tokens': 159})}])\n",
            "content=\"Please provide me with a list of the things you'd like me to do! I'm happy to help with a wide range of tasks, such as:\\n\\n* **Answering questions:** I can provide information on a variety of topics.\\n* **Generating creative content:** I can write stories, poems, articles, and more.\\n* **Summarizing text:** I can condense large amounts of information into shorter summaries.\\n* **Translating languages:** I can translate text between multiple languages.\\n* **Coding:** I can help with coding in several programming languages.\\n* **And much more!**\\n\\nJust let me know what you need, and I'll do my best.\\n\" additional_kwargs={} response_metadata={'token_usage': {'completion_tokens': 145, 'prompt_tokens': 14, 'total_tokens': 159, 'completion_time': 0.263636364, 'prompt_time': 0.001882897, 'queue_time': 0.258947572, 'total_time': 0.265519261}, 'model_name': 'gemma2-9b-it', 'system_fingerprint': 'fp_10c08bf97d', 'finish_reason': 'stop', 'logprobs': None} id='run--5d70f9e2-102c-4092-8f1c-cbe2a087a4c8-0' usage_metadata={'input_tokens': 14, 'output_tokens': 145, 'total_tokens': 159}\n",
            "Assistant: Please provide me with a list of the things you'd like me to do! I'm happy to help with a wide range of tasks, such as:\n",
            "\n",
            "* **Answering questions:** I can provide information on a variety of topics.\n",
            "* **Generating creative content:** I can write stories, poems, articles, and more.\n",
            "* **Summarizing text:** I can condense large amounts of information into shorter summaries.\n",
            "* **Translating languages:** I can translate text between multiple languages.\n",
            "* **Coding:** I can help with coding in several programming languages.\n",
            "* **And much more!**\n",
            "\n",
            "Just let me know what you need, and I'll do my best.\n",
            "\n",
            "Good Bye\n"
          ]
        }
      ],
      "source": [
        "while True:\n",
        "  user_input=input(\"User: \")\n",
        "  if user_input.lower() in [\"quit\",\"q\"]:\n",
        "    print(\"Good Bye\")\n",
        "    break\n",
        "  for event in graph.stream({'messages':(\"user\",user_input)}):\n",
        "    print(event.values())\n",
        "    for value in event.values():\n",
        "      print(value['messages'])\n",
        "      print(\"Assistant:\",value[\"messages\"].content)"
      ]
    },
    {
      "cell_type": "code",
      "execution_count": null,
      "metadata": {},
      "outputs": [],
      "source": []
    }
  ],
  "metadata": {
    "accelerator": "GPU",
    "colab": {
      "gpuType": "L4",
      "machine_shape": "hm",
      "provenance": []
    },
    "kernelspec": {
      "display_name": "Python 3",
      "name": "python3"
    },
    "language_info": {
      "codemirror_mode": {
        "name": "ipython",
        "version": 3
      },
      "file_extension": ".py",
      "mimetype": "text/x-python",
      "name": "python",
      "nbconvert_exporter": "python",
      "pygments_lexer": "ipython3",
      "version": "3.10.0"
    }
  },
  "nbformat": 4,
  "nbformat_minor": 0
}
